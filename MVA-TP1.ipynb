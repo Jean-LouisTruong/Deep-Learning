{
 "cells": [
  {
   "cell_type": "markdown",
   "metadata": {},
   "source": [
    "# Project - Image Classification and Regression\n",
    "Jean-Louis Truong"
   ]
  },
  {
   "cell_type": "code",
   "execution_count": 1,
   "metadata": {},
   "outputs": [
    {
     "name": "stderr",
     "output_type": "stream",
     "text": [
      "C:\\Users\\trace\\AppData\\Local\\Continuum\\anaconda3\\envs\\tensorflow\\lib\\site-packages\\h5py\\__init__.py:36: FutureWarning: Conversion of the second argument of issubdtype from `float` to `np.floating` is deprecated. In future, it will be treated as `np.float64 == np.dtype(float).type`.\n",
      "  from ._conv import register_converters as _register_converters\n",
      "Using TensorFlow backend.\n"
     ]
    }
   ],
   "source": [
    "import matplotlib.pyplot as plt\n",
    "import numpy as np\n",
    "import math\n",
    "import matplotlib.patches as patches\n",
    "import keras"
   ]
  },
  {
   "cell_type": "code",
   "execution_count": 2,
   "metadata": {},
   "outputs": [],
   "source": [
    "#Keras modules\n",
    "from keras.utils import np_utils\n",
    "from keras import optimizers\n",
    "from keras.models import Sequential, Model\n",
    "from keras.layers import Dense, Activation, Conv2D, MaxPooling2D, Dropout, Flatten, Input, UpSampling2D\n",
    "from keras.optimizers import SGD, Adam"
   ]
  },
  {
   "cell_type": "code",
   "execution_count": 3,
   "metadata": {},
   "outputs": [],
   "source": [
    "#mp1.py functions\n",
    "\n",
    "import matplotlib.pyplot as plt\n",
    "#matplotlib inline\n",
    "import numpy as np\n",
    "\n",
    "# On some implementations of matplotlib, you may need to change this value\n",
    "IMAGE_SIZE = 72\n",
    "\n",
    "def generate_a_drawing(figsize, U, V, noise=0.0):\n",
    "    fig = plt.figure(figsize=(figsize,figsize))\n",
    "    ax = plt.subplot(111)\n",
    "    plt.axis('Off')\n",
    "    ax.set_xlim(0,figsize)\n",
    "    ax.set_ylim(0,figsize)\n",
    "    ax.fill(U, V, \"k\")\n",
    "    fig.canvas.draw()\n",
    "    imdata = np.frombuffer(fig.canvas.tostring_rgb(), dtype=np.uint8)[::3].astype(np.float32)\n",
    "    imdata = imdata + noise * np.random.random(imdata.size)\n",
    "    plt.close(fig)\n",
    "    return imdata\n",
    "\n",
    "def generate_a_rectangle(noise=0.0, free_location=False):\n",
    "    figsize = 1.0    \n",
    "    U = np.zeros(4)\n",
    "    V = np.zeros(4)\n",
    "    if free_location:\n",
    "        corners = np.random.random(4)\n",
    "        top = max(corners[0], corners[1])\n",
    "        bottom = min(corners[0], corners[1])\n",
    "        left = min(corners[2], corners[3])\n",
    "        right = max(corners[2], corners[3])\n",
    "    else:\n",
    "        side = (0.3 + 0.7 * np.random.random()) * figsize\n",
    "        top = figsize/2 + side/2\n",
    "        bottom = figsize/2 - side/2\n",
    "        left = bottom\n",
    "        right = top\n",
    "    U[0] = U[1] = top\n",
    "    U[2] = U[3] = bottom\n",
    "    V[0] = V[3] = left\n",
    "    V[1] = V[2] = right\n",
    "    return generate_a_drawing(figsize, U, V, noise)\n",
    "\n",
    "\n",
    "def generate_a_disk(noise=0.0, free_location=False):\n",
    "    figsize = 1.0\n",
    "    if free_location:\n",
    "        center = np.random.random(2)\n",
    "    else:\n",
    "        center = (figsize/2, figsize/2)\n",
    "    radius = (0.3 + 0.7 * np.random.random()) * figsize/2\n",
    "    N = 50\n",
    "    U = np.zeros(N)\n",
    "    V = np.zeros(N)\n",
    "    i = 0\n",
    "    for t in np.linspace(0, 2*np.pi, N):\n",
    "        U[i] = center[0] + np.cos(t) * radius\n",
    "        V[i] = center[1] + np.sin(t) * radius\n",
    "        i = i + 1\n",
    "    return generate_a_drawing(figsize, U, V, noise)\n",
    "\n",
    "def generate_a_triangle(noise=0.0, free_location=False):\n",
    "    figsize = 1.0\n",
    "    if free_location:\n",
    "        U = np.random.random(3)\n",
    "        V = np.random.random(3)\n",
    "    else:\n",
    "        size = (0.3 + 0.7 * np.random.random())*figsize/2\n",
    "        middle = figsize/2\n",
    "        U = (middle, middle+size, middle-size)\n",
    "        V = (middle+size, middle-size, middle-size)\n",
    "    imdata = generate_a_drawing(figsize, U, V, noise)\n",
    "    return [imdata, [U[0], V[0], U[1], V[1], U[2], V[2]]]\n",
    "\n",
    "\n",
    "#im = generate_a_rectangle(10, True)\n",
    "#plt.imshow(im.reshape(IMAGE_SIZE,IMAGE_SIZE), cmap='gray')\n",
    "#plt.show()\n",
    "\n",
    "#im = generate_a_disk(10)\n",
    "#plt.imshow(im.reshape(IMAGE_SIZE,IMAGE_SIZE), cmap='gray')\n",
    "#plt.show()\n",
    "\n",
    "#[im, v] = generate_a_triangle(20, False)\n",
    "#plt.imshow(im.reshape(IMAGE_SIZE,IMAGE_SIZE), cmap='gray')\n",
    "#plt.show()\n",
    "\n",
    "def generate_dataset_classification(nb_samples, noise=0.0, free_location=False):\n",
    "    # Getting im_size:\n",
    "    im_size = generate_a_rectangle().shape[0]\n",
    "    X = np.zeros([nb_samples,im_size])\n",
    "    Y = np.zeros(nb_samples)\n",
    "    print('Creating data:')\n",
    "    for i in range(nb_samples):\n",
    "        if i % 10 == 0:\n",
    "            print(i)\n",
    "        category = np.random.randint(3)\n",
    "        if category == 0:\n",
    "            X[i] = generate_a_rectangle(noise, free_location)\n",
    "        elif category == 1: \n",
    "            X[i] = generate_a_disk(noise, free_location)\n",
    "        else:\n",
    "            [X[i], V] = generate_a_triangle(noise, free_location)\n",
    "        Y[i] = category\n",
    "    X = (X + noise) / (255 + 2 * noise)\n",
    "    return [X, Y]\n",
    "\n",
    "def generate_test_set_classification():\n",
    "    np.random.seed(42)\n",
    "    [X_test, Y_test] = generate_dataset_classification(300, 20, True)\n",
    "    Y_test = np_utils.to_categorical(Y_test, 3) \n",
    "    return [X_test, Y_test]\n",
    "\n",
    "def generate_dataset_regression(nb_samples, noise=0.0):\n",
    "    # Getting im_size:\n",
    "    im_size = generate_a_triangle()[0].shape[0]\n",
    "    X = np.zeros([nb_samples,im_size])\n",
    "    Y = np.zeros([nb_samples, 6])\n",
    "    print('Creating data:')\n",
    "    for i in range(nb_samples):\n",
    "        if i % 10 == 0:\n",
    "            print(i)\n",
    "        [X[i], Y[i]] = generate_a_triangle(noise, True)\n",
    "    X = (X + noise) / (255 + 2 * noise)\n",
    "    return [X, Y]\n",
    "\n",
    "import matplotlib.patches as patches\n",
    "\n",
    "def visualize_prediction(x, y):\n",
    "    fig, ax = plt.subplots(figsize=(5, 5))\n",
    "    I = x.reshape((IMAGE_SIZE,IMAGE_SIZE))\n",
    "    ax.imshow(I, extent=[-0.15,1.15,-0.15,1.15],cmap='gray')\n",
    "    ax.set_xlim([0,1])\n",
    "    ax.set_ylim([0,1])\n",
    "\n",
    "    xy = y.reshape(3,2)\n",
    "    tri = patches.Polygon(xy, closed=True, fill = False, edgecolor = 'r', linewidth = 5, alpha = 0.5)\n",
    "    ax.add_patch(tri)\n",
    "\n",
    "    plt.show()\n",
    "\n",
    "def generate_test_set_regression():\n",
    "    np.random.seed(42)\n",
    "    [X_test, Y_test] = generate_dataset_regression(300, 20)\n",
    "    return [X_test, Y_test]\n"
   ]
  },
  {
   "cell_type": "markdown",
   "metadata": {},
   "source": [
    "# Simple Classification"
   ]
  },
  {
   "cell_type": "markdown",
   "metadata": {},
   "source": [
    "We generate the geometric shapes. We transform the category list Y_train into a class list."
   ]
  },
  {
   "cell_type": "code",
   "execution_count": 4,
   "metadata": {
    "scrolled": true
   },
   "outputs": [
    {
     "name": "stdout",
     "output_type": "stream",
     "text": [
      "Creating data:\n",
      "0\n",
      "10\n",
      "20\n",
      "30\n",
      "40\n",
      "50\n",
      "60\n",
      "70\n",
      "80\n",
      "90\n",
      "100\n",
      "110\n",
      "120\n",
      "130\n",
      "140\n",
      "150\n",
      "160\n",
      "170\n",
      "180\n",
      "190\n",
      "200\n",
      "210\n",
      "220\n",
      "230\n",
      "240\n",
      "250\n",
      "260\n",
      "270\n",
      "280\n",
      "290\n"
     ]
    }
   ],
   "source": [
    "[X_train, Y_train] = generate_dataset_classification(300, 20)\n",
    "Y_train = np_utils.to_categorical(Y_train, 3) "
   ]
  },
  {
   "cell_type": "markdown",
   "metadata": {},
   "source": [
    "We create a first model, using stochastic gradient descent optimizer."
   ]
  },
  {
   "cell_type": "code",
   "execution_count": 5,
   "metadata": {},
   "outputs": [
    {
     "name": "stdout",
     "output_type": "stream",
     "text": [
      "Epoch 1/100\n",
      "300/300 [==============================] - 0s 887us/step - loss: 4.9936 - acc: 0.3367\n",
      "Epoch 2/100\n",
      "300/300 [==============================] - 0s 119us/step - loss: 1.7331 - acc: 0.5767\n",
      "Epoch 3/100\n",
      "300/300 [==============================] - 0s 127us/step - loss: 0.8202 - acc: 0.7567\n",
      "Epoch 4/100\n",
      "300/300 [==============================] - 0s 149us/step - loss: 0.6659 - acc: 0.8067\n",
      "Epoch 5/100\n",
      "300/300 [==============================] - 0s 226us/step - loss: 0.4596 - acc: 0.8800\n",
      "Epoch 6/100\n",
      "300/300 [==============================] - 0s 241us/step - loss: 0.4384 - acc: 0.8567\n",
      "Epoch 7/100\n",
      "300/300 [==============================] - 0s 211us/step - loss: 0.2244 - acc: 0.9367\n",
      "Epoch 8/100\n",
      "300/300 [==============================] - 0s 157us/step - loss: 0.3106 - acc: 0.8667\n",
      "Epoch 9/100\n",
      "300/300 [==============================] - 0s 113us/step - loss: 0.0883 - acc: 0.9600\n",
      "Epoch 10/100\n",
      "300/300 [==============================] - 0s 126us/step - loss: 0.1040 - acc: 0.9567\n",
      "Epoch 11/100\n",
      "300/300 [==============================] - 0s 113us/step - loss: 0.0613 - acc: 0.9867\n",
      "Epoch 12/100\n",
      "300/300 [==============================] - 0s 125us/step - loss: 0.0576 - acc: 0.9800\n",
      "Epoch 13/100\n",
      "300/300 [==============================] - 0s 116us/step - loss: 0.0495 - acc: 0.9867\n",
      "Epoch 14/100\n",
      "300/300 [==============================] - 0s 140us/step - loss: 0.0497 - acc: 0.9933\n",
      "Epoch 15/100\n",
      "300/300 [==============================] - 0s 113us/step - loss: 0.0407 - acc: 0.9967\n",
      "Epoch 16/100\n",
      "300/300 [==============================] - 0s 129us/step - loss: 0.0488 - acc: 0.9900\n",
      "Epoch 17/100\n",
      "300/300 [==============================] - 0s 131us/step - loss: 0.0469 - acc: 0.9933\n",
      "Epoch 18/100\n",
      "300/300 [==============================] - 0s 106us/step - loss: 0.0392 - acc: 1.0000\n",
      "Epoch 19/100\n",
      "300/300 [==============================] - 0s 145us/step - loss: 0.0347 - acc: 0.9967\n",
      "Epoch 20/100\n",
      "300/300 [==============================] - 0s 128us/step - loss: 0.0319 - acc: 1.0000\n",
      "Epoch 21/100\n",
      "300/300 [==============================] - 0s 134us/step - loss: 0.0352 - acc: 0.9967\n",
      "Epoch 22/100\n",
      "300/300 [==============================] - 0s 116us/step - loss: 0.0303 - acc: 1.0000\n",
      "Epoch 23/100\n",
      "300/300 [==============================] - 0s 119us/step - loss: 0.0360 - acc: 0.9933\n",
      "Epoch 24/100\n",
      "300/300 [==============================] - 0s 118us/step - loss: 0.0369 - acc: 0.9967\n",
      "Epoch 25/100\n",
      "300/300 [==============================] - 0s 110us/step - loss: 0.0296 - acc: 1.0000\n",
      "Epoch 26/100\n",
      "300/300 [==============================] - 0s 122us/step - loss: 0.0306 - acc: 1.0000\n",
      "Epoch 27/100\n",
      "300/300 [==============================] - 0s 142us/step - loss: 0.0309 - acc: 1.0000\n",
      "Epoch 28/100\n",
      "300/300 [==============================] - 0s 144us/step - loss: 0.0265 - acc: 1.0000\n",
      "Epoch 29/100\n",
      "300/300 [==============================] - 0s 144us/step - loss: 0.0245 - acc: 1.0000\n",
      "Epoch 30/100\n",
      "300/300 [==============================] - 0s 120us/step - loss: 0.0265 - acc: 1.0000\n",
      "Epoch 31/100\n",
      "300/300 [==============================] - 0s 119us/step - loss: 0.0231 - acc: 1.0000\n",
      "Epoch 32/100\n",
      "300/300 [==============================] - 0s 121us/step - loss: 0.0284 - acc: 1.0000\n",
      "Epoch 33/100\n",
      "300/300 [==============================] - 0s 136us/step - loss: 0.0210 - acc: 1.0000\n",
      "Epoch 34/100\n",
      "300/300 [==============================] - 0s 125us/step - loss: 0.0216 - acc: 1.0000\n",
      "Epoch 35/100\n",
      "300/300 [==============================] - 0s 132us/step - loss: 0.0205 - acc: 1.0000\n",
      "Epoch 36/100\n",
      "300/300 [==============================] - 0s 115us/step - loss: 0.0223 - acc: 1.0000\n",
      "Epoch 37/100\n",
      "300/300 [==============================] - 0s 122us/step - loss: 0.0233 - acc: 1.0000\n",
      "Epoch 38/100\n",
      "300/300 [==============================] - 0s 113us/step - loss: 0.0225 - acc: 1.0000\n",
      "Epoch 39/100\n",
      "300/300 [==============================] - 0s 120us/step - loss: 0.0188 - acc: 1.0000\n",
      "Epoch 40/100\n",
      "300/300 [==============================] - 0s 114us/step - loss: 0.0206 - acc: 1.0000\n",
      "Epoch 41/100\n",
      "300/300 [==============================] - 0s 128us/step - loss: 0.0182 - acc: 1.0000\n",
      "Epoch 42/100\n",
      "300/300 [==============================] - 0s 126us/step - loss: 0.0194 - acc: 1.0000\n",
      "Epoch 43/100\n",
      "300/300 [==============================] - 0s 120us/step - loss: 0.0166 - acc: 1.0000\n",
      "Epoch 44/100\n",
      "300/300 [==============================] - 0s 117us/step - loss: 0.0181 - acc: 1.0000\n",
      "Epoch 45/100\n",
      "300/300 [==============================] - 0s 108us/step - loss: 0.0166 - acc: 1.0000\n",
      "Epoch 46/100\n",
      "300/300 [==============================] - 0s 116us/step - loss: 0.0158 - acc: 1.0000\n",
      "Epoch 47/100\n",
      "300/300 [==============================] - 0s 112us/step - loss: 0.0186 - acc: 1.0000\n",
      "Epoch 48/100\n",
      "300/300 [==============================] - 0s 181us/step - loss: 0.0165 - acc: 1.0000\n",
      "Epoch 49/100\n",
      "300/300 [==============================] - 0s 161us/step - loss: 0.0167 - acc: 1.0000\n",
      "Epoch 50/100\n",
      "300/300 [==============================] - 0s 110us/step - loss: 0.0162 - acc: 1.0000\n",
      "Epoch 51/100\n",
      "300/300 [==============================] - 0s 115us/step - loss: 0.0169 - acc: 1.0000\n",
      "Epoch 52/100\n",
      "300/300 [==============================] - 0s 116us/step - loss: 0.0153 - acc: 1.0000\n",
      "Epoch 53/100\n",
      "300/300 [==============================] - 0s 115us/step - loss: 0.0207 - acc: 1.0000\n",
      "Epoch 54/100\n",
      "300/300 [==============================] - 0s 130us/step - loss: 0.0159 - acc: 1.0000\n",
      "Epoch 55/100\n",
      "300/300 [==============================] - 0s 107us/step - loss: 0.0142 - acc: 1.0000\n",
      "Epoch 56/100\n",
      "300/300 [==============================] - 0s 111us/step - loss: 0.0179 - acc: 1.0000\n",
      "Epoch 57/100\n",
      "300/300 [==============================] - 0s 138us/step - loss: 0.0151 - acc: 1.0000\n",
      "Epoch 58/100\n",
      "300/300 [==============================] - 0s 121us/step - loss: 0.0142 - acc: 1.0000\n",
      "Epoch 59/100\n",
      "300/300 [==============================] - 0s 116us/step - loss: 0.0134 - acc: 1.0000\n",
      "Epoch 60/100\n",
      "300/300 [==============================] - 0s 107us/step - loss: 0.0127 - acc: 1.0000\n",
      "Epoch 61/100\n",
      "300/300 [==============================] - 0s 122us/step - loss: 0.0152 - acc: 1.0000\n",
      "Epoch 62/100\n",
      "300/300 [==============================] - 0s 190us/step - loss: 0.0129 - acc: 1.0000\n",
      "Epoch 63/100\n",
      "300/300 [==============================] - 0s 192us/step - loss: 0.0132 - acc: 1.0000\n",
      "Epoch 64/100\n",
      "300/300 [==============================] - 0s 155us/step - loss: 0.0119 - acc: 1.0000\n",
      "Epoch 65/100\n",
      "300/300 [==============================] - 0s 112us/step - loss: 0.0138 - acc: 1.0000\n",
      "Epoch 66/100\n",
      "300/300 [==============================] - 0s 101us/step - loss: 0.0118 - acc: 1.0000\n",
      "Epoch 67/100\n",
      "300/300 [==============================] - 0s 109us/step - loss: 0.0137 - acc: 1.0000\n",
      "Epoch 68/100\n",
      "300/300 [==============================] - 0s 107us/step - loss: 0.0117 - acc: 1.0000\n",
      "Epoch 69/100\n",
      "300/300 [==============================] - 0s 105us/step - loss: 0.0117 - acc: 1.0000\n",
      "Epoch 70/100\n",
      "300/300 [==============================] - 0s 228us/step - loss: 0.0115 - acc: 1.0000\n",
      "Epoch 71/100\n",
      "300/300 [==============================] - 0s 161us/step - loss: 0.0133 - acc: 1.0000\n",
      "Epoch 72/100\n",
      "300/300 [==============================] - 0s 145us/step - loss: 0.0120 - acc: 1.0000\n",
      "Epoch 73/100\n",
      "300/300 [==============================] - 0s 141us/step - loss: 0.0121 - acc: 1.0000\n",
      "Epoch 74/100\n",
      "300/300 [==============================] - 0s 162us/step - loss: 0.0122 - acc: 1.0000\n",
      "Epoch 75/100\n",
      "300/300 [==============================] - 0s 148us/step - loss: 0.0108 - acc: 1.0000\n",
      "Epoch 76/100\n",
      "300/300 [==============================] - 0s 150us/step - loss: 0.0107 - acc: 1.0000\n",
      "Epoch 77/100\n",
      "300/300 [==============================] - 0s 144us/step - loss: 0.0104 - acc: 1.0000\n",
      "Epoch 78/100\n",
      "300/300 [==============================] - 0s 159us/step - loss: 0.0104 - acc: 1.0000\n",
      "Epoch 79/100\n",
      "300/300 [==============================] - 0s 181us/step - loss: 0.0103 - acc: 1.0000\n",
      "Epoch 80/100\n",
      "300/300 [==============================] - 0s 133us/step - loss: 0.0100 - acc: 1.0000\n",
      "Epoch 81/100\n",
      "300/300 [==============================] - 0s 116us/step - loss: 0.0114 - acc: 1.0000\n",
      "Epoch 82/100\n",
      "300/300 [==============================] - 0s 98us/step - loss: 0.0100 - acc: 1.0000\n",
      "Epoch 83/100\n"
     ]
    },
    {
     "name": "stdout",
     "output_type": "stream",
     "text": [
      "300/300 [==============================] - 0s 104us/step - loss: 0.0100 - acc: 1.0000\n",
      "Epoch 84/100\n",
      "300/300 [==============================] - 0s 182us/step - loss: 0.0116 - acc: 1.0000\n",
      "Epoch 85/100\n",
      "300/300 [==============================] - 0s 189us/step - loss: 0.0094 - acc: 1.0000\n",
      "Epoch 86/100\n",
      "300/300 [==============================] - 0s 160us/step - loss: 0.0096 - acc: 1.0000\n",
      "Epoch 87/100\n",
      "300/300 [==============================] - 0s 184us/step - loss: 0.0093 - acc: 1.0000\n",
      "Epoch 88/100\n",
      "300/300 [==============================] - 0s 211us/step - loss: 0.0095 - acc: 1.0000\n",
      "Epoch 89/100\n",
      "300/300 [==============================] - 0s 178us/step - loss: 0.0102 - acc: 1.0000\n",
      "Epoch 90/100\n",
      "300/300 [==============================] - 0s 178us/step - loss: 0.0089 - acc: 1.0000\n",
      "Epoch 91/100\n",
      "300/300 [==============================] - 0s 178us/step - loss: 0.0092 - acc: 1.0000\n",
      "Epoch 92/100\n",
      "300/300 [==============================] - 0s 162us/step - loss: 0.0106 - acc: 1.0000\n",
      "Epoch 93/100\n",
      "300/300 [==============================] - 0s 178us/step - loss: 0.0088 - acc: 1.0000\n",
      "Epoch 94/100\n",
      "300/300 [==============================] - 0s 171us/step - loss: 0.0091 - acc: 1.0000\n",
      "Epoch 95/100\n",
      "300/300 [==============================] - 0s 194us/step - loss: 0.0087 - acc: 1.0000\n",
      "Epoch 96/100\n",
      "300/300 [==============================] - 0s 175us/step - loss: 0.0089 - acc: 1.0000\n",
      "Epoch 97/100\n",
      "300/300 [==============================] - 0s 185us/step - loss: 0.0085 - acc: 1.0000\n",
      "Epoch 98/100\n",
      "300/300 [==============================] - 0s 176us/step - loss: 0.0082 - acc: 1.0000\n",
      "Epoch 99/100\n",
      "300/300 [==============================] - 0s 172us/step - loss: 0.0082 - acc: 1.0000\n",
      "Epoch 100/100\n",
      "300/300 [==============================] - 0s 190us/step - loss: 0.0086 - acc: 1.0000\n"
     ]
    },
    {
     "data": {
      "text/plain": [
       "<keras.callbacks.History at 0x1954bf71f28>"
      ]
     },
     "execution_count": 5,
     "metadata": {},
     "output_type": "execute_result"
    }
   ],
   "source": [
    "model = Sequential([Dense(3, input_shape=(5184,)), Activation('softmax')])\n",
    "sgd = SGD(lr=0.003, decay=1e-6, momentum=0.9, nesterov=True)\n",
    "model.compile(loss='categorical_crossentropy', optimizer=sgd, metrics=['accuracy'])\n",
    "model.fit(X_train, Y_train, epochs=100, batch_size=32)"
   ]
  },
  {
   "cell_type": "markdown",
   "metadata": {},
   "source": [
    "We then check our classifier. The prediction are accurate for each geometric shapes."
   ]
  },
  {
   "cell_type": "code",
   "execution_count": 6,
   "metadata": {},
   "outputs": [
    {
     "data": {
      "text/plain": [
       "array([[0., 0., 1.]], dtype=float32)"
      ]
     },
     "execution_count": 6,
     "metadata": {},
     "output_type": "execute_result"
    }
   ],
   "source": [
    "X_test = generate_a_triangle()[0]\n",
    "X_test = X_test.reshape(1, X_test.shape[0])\n",
    "model.predict(X_test)"
   ]
  },
  {
   "cell_type": "code",
   "execution_count": 7,
   "metadata": {},
   "outputs": [
    {
     "data": {
      "text/plain": [
       "array([[1., 0., 0.]], dtype=float32)"
      ]
     },
     "execution_count": 7,
     "metadata": {},
     "output_type": "execute_result"
    }
   ],
   "source": [
    "X_test = generate_a_rectangle()\n",
    "X_test = X_test.reshape(1, X_test.shape[0])\n",
    "model.predict(X_test)"
   ]
  },
  {
   "cell_type": "code",
   "execution_count": 8,
   "metadata": {},
   "outputs": [
    {
     "data": {
      "text/plain": [
       "array([[0., 1., 0.]], dtype=float32)"
      ]
     },
     "execution_count": 8,
     "metadata": {},
     "output_type": "execute_result"
    }
   ],
   "source": [
    "X_test = generate_a_disk()\n",
    "X_test = X_test.reshape(1, X_test.shape[0])\n",
    "model.predict(X_test)"
   ]
  },
  {
   "cell_type": "markdown",
   "metadata": {},
   "source": [
    "Now, we try the Adam optimizer."
   ]
  },
  {
   "cell_type": "code",
   "execution_count": 9,
   "metadata": {
    "scrolled": true
   },
   "outputs": [
    {
     "name": "stdout",
     "output_type": "stream",
     "text": [
      "Epoch 1/100\n",
      "300/300 [==============================] - 0s 1ms/step - loss: 1.2704 - acc: 0.5233\n",
      "Epoch 2/100\n",
      "300/300 [==============================] - 0s 190us/step - loss: 0.5981 - acc: 0.7467\n",
      "Epoch 3/100\n",
      "300/300 [==============================] - 0s 251us/step - loss: 0.4037 - acc: 0.8833\n",
      "Epoch 4/100\n",
      "300/300 [==============================] - 0s 221us/step - loss: 0.3906 - acc: 0.8300\n",
      "Epoch 5/100\n",
      "300/300 [==============================] - 0s 146us/step - loss: 0.2833 - acc: 0.9000\n",
      "Epoch 6/100\n",
      "300/300 [==============================] - 0s 180us/step - loss: 0.2459 - acc: 0.9067\n",
      "Epoch 7/100\n",
      "300/300 [==============================] - 0s 267us/step - loss: 0.1943 - acc: 0.9700\n",
      "Epoch 8/100\n",
      "300/300 [==============================] - 0s 233us/step - loss: 0.1689 - acc: 0.9833\n",
      "Epoch 9/100\n",
      "300/300 [==============================] - 0s 153us/step - loss: 0.2023 - acc: 0.9067\n",
      "Epoch 10/100\n",
      "300/300 [==============================] - 0s 190us/step - loss: 0.1393 - acc: 0.9933\n",
      "Epoch 11/100\n",
      "300/300 [==============================] - 0s 153us/step - loss: 0.1215 - acc: 0.9933\n",
      "Epoch 12/100\n",
      "300/300 [==============================] - 0s 160us/step - loss: 0.1100 - acc: 0.9967\n",
      "Epoch 13/100\n",
      "300/300 [==============================] - 0s 166us/step - loss: 0.1068 - acc: 1.0000\n",
      "Epoch 14/100\n",
      "300/300 [==============================] - 0s 166us/step - loss: 0.1087 - acc: 0.9967\n",
      "Epoch 15/100\n",
      "300/300 [==============================] - 0s 212us/step - loss: 0.0942 - acc: 0.9967\n",
      "Epoch 16/100\n",
      "300/300 [==============================] - 0s 199us/step - loss: 0.0826 - acc: 1.0000\n",
      "Epoch 17/100\n",
      "300/300 [==============================] - 0s 181us/step - loss: 0.0795 - acc: 1.0000\n",
      "Epoch 18/100\n",
      "300/300 [==============================] - 0s 183us/step - loss: 0.0680 - acc: 1.0000\n",
      "Epoch 19/100\n",
      "300/300 [==============================] - 0s 164us/step - loss: 0.0666 - acc: 1.0000\n",
      "Epoch 20/100\n",
      "300/300 [==============================] - 0s 149us/step - loss: 0.0655 - acc: 1.0000\n",
      "Epoch 21/100\n",
      "300/300 [==============================] - 0s 197us/step - loss: 0.0574 - acc: 1.0000\n",
      "Epoch 22/100\n",
      "300/300 [==============================] - 0s 188us/step - loss: 0.0618 - acc: 0.9967\n",
      "Epoch 23/100\n",
      "300/300 [==============================] - 0s 215us/step - loss: 0.0629 - acc: 1.0000\n",
      "Epoch 24/100\n",
      "300/300 [==============================] - 0s 181us/step - loss: 0.0578 - acc: 1.0000\n",
      "Epoch 25/100\n",
      "300/300 [==============================] - 0s 212us/step - loss: 0.0535 - acc: 0.9933\n",
      "Epoch 26/100\n",
      "300/300 [==============================] - 0s 149us/step - loss: 0.0490 - acc: 1.0000\n",
      "Epoch 27/100\n",
      "300/300 [==============================] - 0s 214us/step - loss: 0.0417 - acc: 1.0000\n",
      "Epoch 28/100\n",
      "300/300 [==============================] - 0s 191us/step - loss: 0.0440 - acc: 1.0000\n",
      "Epoch 29/100\n",
      "300/300 [==============================] - 0s 163us/step - loss: 0.0390 - acc: 1.0000\n",
      "Epoch 30/100\n",
      "300/300 [==============================] - 0s 186us/step - loss: 0.0405 - acc: 1.0000\n",
      "Epoch 31/100\n",
      "300/300 [==============================] - 0s 126us/step - loss: 0.0361 - acc: 1.0000\n",
      "Epoch 32/100\n",
      "300/300 [==============================] - 0s 112us/step - loss: 0.0330 - acc: 1.0000\n",
      "Epoch 33/100\n",
      "300/300 [==============================] - 0s 125us/step - loss: 0.0316 - acc: 1.0000\n",
      "Epoch 34/100\n",
      "300/300 [==============================] - 0s 204us/step - loss: 0.0300 - acc: 1.0000\n",
      "Epoch 35/100\n",
      "300/300 [==============================] - 0s 230us/step - loss: 0.0310 - acc: 1.0000\n",
      "Epoch 36/100\n",
      "300/300 [==============================] - 0s 188us/step - loss: 0.0367 - acc: 1.0000\n",
      "Epoch 37/100\n",
      "300/300 [==============================] - 0s 170us/step - loss: 0.0286 - acc: 1.0000\n",
      "Epoch 38/100\n",
      "300/300 [==============================] - 0s 119us/step - loss: 0.0265 - acc: 1.0000\n",
      "Epoch 39/100\n",
      "300/300 [==============================] - 0s 114us/step - loss: 0.0274 - acc: 1.0000\n",
      "Epoch 40/100\n",
      "300/300 [==============================] - 0s 116us/step - loss: 0.0266 - acc: 1.0000\n",
      "Epoch 41/100\n",
      "300/300 [==============================] - 0s 116us/step - loss: 0.0216 - acc: 1.0000\n",
      "Epoch 42/100\n",
      "300/300 [==============================] - 0s 230us/step - loss: 0.0207 - acc: 1.0000\n",
      "Epoch 43/100\n",
      "300/300 [==============================] - 0s 194us/step - loss: 0.0215 - acc: 1.0000\n",
      "Epoch 44/100\n",
      "300/300 [==============================] - 0s 169us/step - loss: 0.0220 - acc: 1.0000\n",
      "Epoch 45/100\n",
      "300/300 [==============================] - 0s 161us/step - loss: 0.0229 - acc: 1.0000\n",
      "Epoch 46/100\n",
      "300/300 [==============================] - 0s 157us/step - loss: 0.0238 - acc: 1.0000\n",
      "Epoch 47/100\n",
      "300/300 [==============================] - 0s 152us/step - loss: 0.0200 - acc: 1.0000\n",
      "Epoch 48/100\n",
      "300/300 [==============================] - 0s 124us/step - loss: 0.0209 - acc: 1.0000\n",
      "Epoch 49/100\n",
      "300/300 [==============================] - 0s 112us/step - loss: 0.0198 - acc: 1.0000\n",
      "Epoch 50/100\n",
      "300/300 [==============================] - 0s 183us/step - loss: 0.0169 - acc: 1.0000\n",
      "Epoch 51/100\n",
      "300/300 [==============================] - 0s 119us/step - loss: 0.0181 - acc: 1.0000\n",
      "Epoch 52/100\n",
      "300/300 [==============================] - 0s 174us/step - loss: 0.0193 - acc: 1.0000\n",
      "Epoch 53/100\n",
      "300/300 [==============================] - 0s 185us/step - loss: 0.0162 - acc: 1.0000\n",
      "Epoch 54/100\n",
      "300/300 [==============================] - 0s 188us/step - loss: 0.0144 - acc: 1.0000\n",
      "Epoch 55/100\n",
      "300/300 [==============================] - 0s 170us/step - loss: 0.0139 - acc: 1.0000\n",
      "Epoch 56/100\n",
      "300/300 [==============================] - 0s 121us/step - loss: 0.0136 - acc: 1.0000\n",
      "Epoch 57/100\n",
      "300/300 [==============================] - 0s 140us/step - loss: 0.0137 - acc: 1.0000\n",
      "Epoch 58/100\n",
      "300/300 [==============================] - 0s 153us/step - loss: 0.0133 - acc: 1.0000\n",
      "Epoch 59/100\n",
      "300/300 [==============================] - 0s 153us/step - loss: 0.0133 - acc: 1.0000\n",
      "Epoch 60/100\n",
      "300/300 [==============================] - 0s 127us/step - loss: 0.0124 - acc: 1.0000\n",
      "Epoch 61/100\n",
      "300/300 [==============================] - 0s 133us/step - loss: 0.0127 - acc: 1.0000\n",
      "Epoch 62/100\n",
      "300/300 [==============================] - 0s 127us/step - loss: 0.0130 - acc: 1.0000\n",
      "Epoch 63/100\n",
      "300/300 [==============================] - 0s 137us/step - loss: 0.0120 - acc: 1.0000\n",
      "Epoch 64/100\n",
      "300/300 [==============================] - 0s 129us/step - loss: 0.0114 - acc: 1.0000\n",
      "Epoch 65/100\n",
      "300/300 [==============================] - 0s 131us/step - loss: 0.0112 - acc: 1.0000\n",
      "Epoch 66/100\n",
      "300/300 [==============================] - 0s 153us/step - loss: 0.0109 - acc: 1.0000\n",
      "Epoch 67/100\n",
      "300/300 [==============================] - 0s 143us/step - loss: 0.0106 - acc: 1.0000\n",
      "Epoch 68/100\n",
      "300/300 [==============================] - 0s 133us/step - loss: 0.0111 - acc: 1.0000\n",
      "Epoch 69/100\n",
      "300/300 [==============================] - 0s 148us/step - loss: 0.0121 - acc: 1.0000\n",
      "Epoch 70/100\n",
      "300/300 [==============================] - 0s 131us/step - loss: 0.0113 - acc: 1.0000\n",
      "Epoch 71/100\n",
      "300/300 [==============================] - 0s 133us/step - loss: 0.0103 - acc: 1.0000\n",
      "Epoch 72/100\n",
      "300/300 [==============================] - 0s 145us/step - loss: 0.0100 - acc: 1.0000\n",
      "Epoch 73/100\n",
      "300/300 [==============================] - 0s 127us/step - loss: 0.0093 - acc: 1.0000\n",
      "Epoch 74/100\n",
      "300/300 [==============================] - 0s 150us/step - loss: 0.0089 - acc: 1.0000\n",
      "Epoch 75/100\n",
      "300/300 [==============================] - 0s 125us/step - loss: 0.0088 - acc: 1.0000\n",
      "Epoch 76/100\n",
      "300/300 [==============================] - 0s 138us/step - loss: 0.0086 - acc: 1.0000\n",
      "Epoch 77/100\n",
      "300/300 [==============================] - 0s 130us/step - loss: 0.0088 - acc: 1.0000\n",
      "Epoch 78/100\n",
      "300/300 [==============================] - 0s 126us/step - loss: 0.0090 - acc: 1.0000\n",
      "Epoch 79/100\n",
      "300/300 [==============================] - 0s 158us/step - loss: 0.0097 - acc: 1.0000\n",
      "Epoch 80/100\n",
      "300/300 [==============================] - 0s 125us/step - loss: 0.0099 - acc: 1.0000\n",
      "Epoch 81/100\n",
      "300/300 [==============================] - 0s 130us/step - loss: 0.0079 - acc: 1.0000\n",
      "Epoch 82/100\n",
      "300/300 [==============================] - 0s 130us/step - loss: 0.0078 - acc: 1.0000\n",
      "Epoch 83/100\n"
     ]
    },
    {
     "name": "stdout",
     "output_type": "stream",
     "text": [
      "300/300 [==============================] - 0s 113us/step - loss: 0.0084 - acc: 1.0000\n",
      "Epoch 84/100\n",
      "300/300 [==============================] - 0s 153us/step - loss: 0.0077 - acc: 1.0000\n",
      "Epoch 85/100\n",
      "300/300 [==============================] - 0s 127us/step - loss: 0.0077 - acc: 1.0000\n",
      "Epoch 86/100\n",
      "300/300 [==============================] - 0s 179us/step - loss: 0.0077 - acc: 1.0000\n",
      "Epoch 87/100\n",
      "300/300 [==============================] - 0s 150us/step - loss: 0.0069 - acc: 1.0000\n",
      "Epoch 88/100\n",
      "300/300 [==============================] - 0s 168us/step - loss: 0.0068 - acc: 1.0000\n",
      "Epoch 89/100\n",
      "300/300 [==============================] - 0s 182us/step - loss: 0.0068 - acc: 1.0000\n",
      "Epoch 90/100\n",
      "300/300 [==============================] - 0s 130us/step - loss: 0.0065 - acc: 1.0000\n",
      "Epoch 91/100\n",
      "300/300 [==============================] - 0s 182us/step - loss: 0.0065 - acc: 1.0000\n",
      "Epoch 92/100\n",
      "300/300 [==============================] - 0s 179us/step - loss: 0.0064 - acc: 1.0000\n",
      "Epoch 93/100\n",
      "300/300 [==============================] - 0s 138us/step - loss: 0.0063 - acc: 1.0000\n",
      "Epoch 94/100\n",
      "300/300 [==============================] - 0s 141us/step - loss: 0.0062 - acc: 1.0000\n",
      "Epoch 95/100\n",
      "300/300 [==============================] - 0s 149us/step - loss: 0.0060 - acc: 1.0000\n",
      "Epoch 96/100\n",
      "300/300 [==============================] - 0s 189us/step - loss: 0.0060 - acc: 1.0000\n",
      "Epoch 97/100\n",
      "300/300 [==============================] - 0s 145us/step - loss: 0.0058 - acc: 1.0000\n",
      "Epoch 98/100\n",
      "300/300 [==============================] - 0s 157us/step - loss: 0.0058 - acc: 1.0000\n",
      "Epoch 99/100\n",
      "300/300 [==============================] - 0s 135us/step - loss: 0.0058 - acc: 1.0000\n",
      "Epoch 100/100\n",
      "300/300 [==============================] - 0s 147us/step - loss: 0.0056 - acc: 1.0000\n"
     ]
    },
    {
     "data": {
      "text/plain": [
       "<keras.callbacks.History at 0x1954428b588>"
      ]
     },
     "execution_count": 9,
     "metadata": {},
     "output_type": "execute_result"
    }
   ],
   "source": [
    "model2 = Sequential([Dense(3, input_shape=(5184,)), Activation('softmax')])\n",
    "model2.compile(loss='categorical_crossentropy',optimizer='adam',metrics=['accuracy'])\n",
    "model2.fit(X_train, Y_train, batch_size=32, epochs=100)"
   ]
  },
  {
   "cell_type": "markdown",
   "metadata": {},
   "source": [
    "We check this new classifier. It is also accurate for each geometric shape."
   ]
  },
  {
   "cell_type": "code",
   "execution_count": 10,
   "metadata": {},
   "outputs": [
    {
     "data": {
      "text/plain": [
       "array([[0., 1., 0.]], dtype=float32)"
      ]
     },
     "execution_count": 10,
     "metadata": {},
     "output_type": "execute_result"
    }
   ],
   "source": [
    "X_test = generate_a_disk()\n",
    "X_test = X_test.reshape(1, X_test.shape[0])\n",
    "model2.predict(X_test)"
   ]
  },
  {
   "cell_type": "code",
   "execution_count": 11,
   "metadata": {},
   "outputs": [
    {
     "data": {
      "text/plain": [
       "array([[0., 0., 1.]], dtype=float32)"
      ]
     },
     "execution_count": 11,
     "metadata": {},
     "output_type": "execute_result"
    }
   ],
   "source": [
    "X_test = generate_a_triangle()[0]\n",
    "X_test = X_test.reshape(1, X_test.shape[0])\n",
    "model2.predict(X_test)"
   ]
  },
  {
   "cell_type": "code",
   "execution_count": 12,
   "metadata": {},
   "outputs": [
    {
     "data": {
      "text/plain": [
       "array([[1., 0., 0.]], dtype=float32)"
      ]
     },
     "execution_count": 12,
     "metadata": {},
     "output_type": "execute_result"
    }
   ],
   "source": [
    "X_test = generate_a_rectangle()\n",
    "X_test = X_test.reshape(1, X_test.shape[0])\n",
    "model2.predict(X_test)"
   ]
  },
  {
   "cell_type": "markdown",
   "metadata": {},
   "source": [
    "# Visualisation of the solution"
   ]
  },
  {
   "cell_type": "markdown",
   "metadata": {},
   "source": [
    "This is the solution for the SGD optimizer."
   ]
  },
  {
   "cell_type": "code",
   "execution_count": 13,
   "metadata": {},
   "outputs": [],
   "source": [
    "W = model.get_weights()[0]"
   ]
  },
  {
   "cell_type": "code",
   "execution_count": 14,
   "metadata": {
    "scrolled": true
   },
   "outputs": [
    {
     "data": {
      "image/png": "[encoded data removed]",
      "text/plain": [
       "<Figure size 432x288 with 1 Axes>"
      ]
     },
     "metadata": {},
     "output_type": "display_data"
    },
    {
     "data": {
      "image/png": "[encoded data removed]",
      "text/plain": [
       "<Figure size 432x288 with 1 Axes>"
      ]
     },
     "metadata": {},
     "output_type": "display_data"
    },
    {
     "data": {
      "image/png": "[encoded data removed]",
      "text/plain": [
       "<Figure size 432x288 with 1 Axes>"
      ]
     },
     "metadata": {},
     "output_type": "display_data"
    }
   ],
   "source": [
    "plt.imshow(W[:,0].reshape(72,72),cmap='gray')\n",
    "plt.show()\n",
    "\n",
    "plt.imshow(W[:,1].reshape(72,72),cmap='gray')\n",
    "plt.show()\n",
    "\n",
    "plt.imshow(W[:,2].reshape(72,72),cmap='gray')\n",
    "plt.show()"
   ]
  },
  {
   "cell_type": "markdown",
   "metadata": {},
   "source": [
    "This is the solution for the Adam optimizer."
   ]
  },
  {
   "cell_type": "code",
   "execution_count": 15,
   "metadata": {},
   "outputs": [],
   "source": [
    "W2 = model2.get_weights()[0]"
   ]
  },
  {
   "cell_type": "code",
   "execution_count": 16,
   "metadata": {
    "scrolled": true
   },
   "outputs": [
    {
     "data": {
      "image/png": "[encoded data removed]",
      "text/plain": [
       "<Figure size 432x288 with 1 Axes>"
      ]
     },
     "metadata": {},
     "output_type": "display_data"
    },
    {
     "data": {
      "image/png": "[encoded data removed]",
      "text/plain": [
       "<Figure size 432x288 with 1 Axes>"
      ]
     },
     "metadata": {},
     "output_type": "display_data"
    },
    {
     "data": {
      "image/png": "[encoded data removed]",
      "text/plain": [
       "<Figure size 432x288 with 1 Axes>"
      ]
     },
     "metadata": {},
     "output_type": "display_data"
    }
   ],
   "source": [
    "plt.imshow(W2[:,0].reshape(72,72),cmap='gray')\n",
    "plt.show()\n",
    "\n",
    "plt.imshow(W2[:,1].reshape(72,72),cmap='gray')\n",
    "plt.show()\n",
    "\n",
    "plt.imshow(W2[:,2].reshape(72,72),cmap='gray')\n",
    "plt.show()"
   ]
  },
  {
   "cell_type": "markdown",
   "metadata": {},
   "source": [
    "# A more difficult classification problem"
   ]
  },
  {
   "cell_type": "markdown",
   "metadata": {},
   "source": [
    "We now generate geometric shape with random noise and will try to classify the shapes with the previous classifier."
   ]
  },
  {
   "cell_type": "code",
   "execution_count": 17,
   "metadata": {
    "scrolled": true
   },
   "outputs": [
    {
     "name": "stdout",
     "output_type": "stream",
     "text": [
      "Creating data:\n",
      "0\n",
      "10\n",
      "20\n",
      "30\n",
      "40\n",
      "50\n",
      "60\n",
      "70\n",
      "80\n",
      "90\n",
      "100\n",
      "110\n",
      "120\n",
      "130\n",
      "140\n",
      "150\n",
      "160\n",
      "170\n",
      "180\n",
      "190\n",
      "200\n",
      "210\n",
      "220\n",
      "230\n",
      "240\n",
      "250\n",
      "260\n",
      "270\n",
      "280\n",
      "290\n"
     ]
    }
   ],
   "source": [
    "[X_train2, Y_train2] = generate_dataset_classification(300, 20, True)\n",
    "Y_train2 = np_utils.to_categorical(Y_train2, num_classes=3)"
   ]
  },
  {
   "cell_type": "code",
   "execution_count": 18,
   "metadata": {},
   "outputs": [
    {
     "name": "stdout",
     "output_type": "stream",
     "text": [
      "Epoch 1/100\n",
      "300/300 [==============================] - 0s 1ms/step - loss: 4.2013 - acc: 0.3667\n",
      "Epoch 2/100\n",
      "300/300 [==============================] - 0s 163us/step - loss: 6.5035 - acc: 0.4067\n",
      "Epoch 3/100\n",
      "300/300 [==============================] - 0s 219us/step - loss: 6.2806 - acc: 0.4533\n",
      "Epoch 4/100\n",
      "300/300 [==============================] - 0s 204us/step - loss: 5.7139 - acc: 0.5333\n",
      "Epoch 5/100\n",
      "300/300 [==============================] - 0s 191us/step - loss: 5.8498 - acc: 0.4967\n",
      "Epoch 6/100\n",
      "300/300 [==============================] - 0s 163us/step - loss: 5.5118 - acc: 0.5667\n",
      "Epoch 7/100\n",
      "300/300 [==============================] - 0s 295us/step - loss: 5.7647 - acc: 0.5000\n",
      "Epoch 8/100\n",
      "300/300 [==============================] - 0s 141us/step - loss: 5.4318 - acc: 0.5867\n",
      "Epoch 9/100\n",
      "300/300 [==============================] - 0s 130us/step - loss: 5.4981 - acc: 0.5667\n",
      "Epoch 10/100\n",
      "300/300 [==============================] - 0s 125us/step - loss: 5.4138 - acc: 0.5967\n",
      "Epoch 11/100\n",
      "300/300 [==============================] - 0s 166us/step - loss: 5.4665 - acc: 0.5967\n",
      "Epoch 12/100\n",
      "300/300 [==============================] - 0s 220us/step - loss: 5.3822 - acc: 0.6133\n",
      "Epoch 13/100\n",
      "300/300 [==============================] - 0s 146us/step - loss: 5.4901 - acc: 0.5833\n",
      "Epoch 14/100\n",
      "300/300 [==============================] - 0s 143us/step - loss: 5.3833 - acc: 0.5967\n",
      "Epoch 15/100\n",
      "300/300 [==============================] - 0s 138us/step - loss: 5.3954 - acc: 0.6067\n",
      "Epoch 16/100\n",
      "300/300 [==============================] - 0s 130us/step - loss: 5.3490 - acc: 0.6300\n",
      "Epoch 17/100\n",
      "300/300 [==============================] - 0s 136us/step - loss: 5.5015 - acc: 0.5400\n",
      "Epoch 18/100\n",
      "300/300 [==============================] - 0s 146us/step - loss: 5.4022 - acc: 0.6033\n",
      "Epoch 19/100\n",
      "300/300 [==============================] - 0s 134us/step - loss: 5.3211 - acc: 0.6333\n",
      "Epoch 20/100\n",
      "300/300 [==============================] - 0s 131us/step - loss: 5.3493 - acc: 0.6267\n",
      "Epoch 21/100\n",
      "300/300 [==============================] - 0s 124us/step - loss: 5.3719 - acc: 0.5933\n",
      "Epoch 22/100\n",
      "300/300 [==============================] - 0s 128us/step - loss: 5.3398 - acc: 0.6300\n",
      "Epoch 23/100\n",
      "300/300 [==============================] - 0s 123us/step - loss: 5.3311 - acc: 0.6333\n",
      "Epoch 24/100\n",
      "300/300 [==============================] - 0s 177us/step - loss: 5.3040 - acc: 0.6500\n",
      "Epoch 25/100\n",
      "300/300 [==============================] - 0s 134us/step - loss: 5.3323 - acc: 0.6400\n",
      "Epoch 26/100\n",
      "300/300 [==============================] - 0s 113us/step - loss: 5.2880 - acc: 0.6400\n",
      "Epoch 27/100\n",
      "300/300 [==============================] - 0s 119us/step - loss: 5.3103 - acc: 0.6333\n",
      "Epoch 28/100\n",
      "300/300 [==============================] - 0s 114us/step - loss: 5.4629 - acc: 0.5833\n",
      "Epoch 29/100\n",
      "300/300 [==============================] - 0s 127us/step - loss: 5.2890 - acc: 0.6433\n",
      "Epoch 30/100\n",
      "300/300 [==============================] - 0s 119us/step - loss: 5.2827 - acc: 0.6600\n",
      "Epoch 31/100\n",
      "300/300 [==============================] - 0s 132us/step - loss: 5.3071 - acc: 0.6433\n",
      "Epoch 32/100\n",
      "300/300 [==============================] - 0s 130us/step - loss: 5.2861 - acc: 0.6467\n",
      "Epoch 33/100\n",
      "300/300 [==============================] - 0s 174us/step - loss: 5.5323 - acc: 0.5733\n",
      "Epoch 34/100\n",
      "300/300 [==============================] - 0s 198us/step - loss: 5.2854 - acc: 0.6467\n",
      "Epoch 35/100\n",
      "300/300 [==============================] - 0s 188us/step - loss: 5.2781 - acc: 0.6633\n",
      "Epoch 36/100\n",
      "300/300 [==============================] - 0s 131us/step - loss: 5.2859 - acc: 0.6600\n",
      "Epoch 37/100\n",
      "300/300 [==============================] - 0s 110us/step - loss: 5.3047 - acc: 0.6500\n",
      "Epoch 38/100\n",
      "300/300 [==============================] - 0s 126us/step - loss: 5.2791 - acc: 0.6533\n",
      "Epoch 39/100\n",
      "300/300 [==============================] - 0s 174us/step - loss: 5.2665 - acc: 0.6600\n",
      "Epoch 40/100\n",
      "300/300 [==============================] - 0s 168us/step - loss: 5.2820 - acc: 0.6533\n",
      "Epoch 41/100\n",
      "300/300 [==============================] - 0s 192us/step - loss: 5.2651 - acc: 0.6567\n",
      "Epoch 42/100\n",
      "300/300 [==============================] - 0s 121us/step - loss: 5.2647 - acc: 0.6600\n",
      "Epoch 43/100\n",
      "300/300 [==============================] - 0s 116us/step - loss: 5.2668 - acc: 0.6633\n",
      "Epoch 44/100\n",
      "300/300 [==============================] - 0s 142us/step - loss: 5.2650 - acc: 0.6600\n",
      "Epoch 45/100\n",
      "300/300 [==============================] - 0s 123us/step - loss: 5.2555 - acc: 0.6600\n",
      "Epoch 46/100\n",
      "300/300 [==============================] - 0s 127us/step - loss: 5.2669 - acc: 0.6567\n",
      "Epoch 47/100\n",
      "300/300 [==============================] - 0s 141us/step - loss: 5.2516 - acc: 0.6667\n",
      "Epoch 48/100\n",
      "300/300 [==============================] - 0s 129us/step - loss: 5.2667 - acc: 0.6567\n",
      "Epoch 49/100\n",
      "300/300 [==============================] - 0s 104us/step - loss: 5.2560 - acc: 0.6633\n",
      "Epoch 50/100\n",
      "300/300 [==============================] - 0s 121us/step - loss: 5.2637 - acc: 0.6567\n",
      "Epoch 51/100\n",
      "300/300 [==============================] - 0s 136us/step - loss: 5.2574 - acc: 0.6667\n",
      "Epoch 52/100\n",
      "300/300 [==============================] - 0s 110us/step - loss: 5.2544 - acc: 0.6667\n",
      "Epoch 53/100\n",
      "300/300 [==============================] - 0s 114us/step - loss: 5.2560 - acc: 0.6667\n",
      "Epoch 54/100\n",
      "300/300 [==============================] - 0s 127us/step - loss: 5.2521 - acc: 0.6700\n",
      "Epoch 55/100\n",
      "300/300 [==============================] - 0s 138us/step - loss: 5.2544 - acc: 0.6667\n",
      "Epoch 56/100\n",
      "300/300 [==============================] - 0s 137us/step - loss: 5.3458 - acc: 0.6167\n",
      "Epoch 57/100\n",
      "300/300 [==============================] - 0s 127us/step - loss: 5.2528 - acc: 0.6633\n",
      "Epoch 58/100\n",
      "300/300 [==============================] - 0s 123us/step - loss: 5.2467 - acc: 0.6700\n",
      "Epoch 59/100\n",
      "300/300 [==============================] - 0s 177us/step - loss: 5.2496 - acc: 0.6733\n",
      "Epoch 60/100\n",
      "300/300 [==============================] - 0s 170us/step - loss: 5.2420 - acc: 0.6667\n",
      "Epoch 61/100\n",
      "300/300 [==============================] - 0s 121us/step - loss: 5.2456 - acc: 0.6700\n",
      "Epoch 62/100\n",
      "300/300 [==============================] - 0s 169us/step - loss: 5.2531 - acc: 0.6667\n",
      "Epoch 63/100\n",
      "300/300 [==============================] - 0s 154us/step - loss: 5.2482 - acc: 0.6700\n",
      "Epoch 64/100\n",
      "300/300 [==============================] - 0s 163us/step - loss: 5.2472 - acc: 0.6733\n",
      "Epoch 65/100\n",
      "300/300 [==============================] - 0s 115us/step - loss: 5.2399 - acc: 0.6733\n",
      "Epoch 66/100\n",
      "300/300 [==============================] - 0s 131us/step - loss: 5.2429 - acc: 0.6733\n",
      "Epoch 67/100\n",
      "300/300 [==============================] - 0s 150us/step - loss: 5.2414 - acc: 0.6733\n",
      "Epoch 68/100\n",
      "300/300 [==============================] - 0s 147us/step - loss: 5.2403 - acc: 0.6733\n",
      "Epoch 69/100\n",
      "300/300 [==============================] - 0s 170us/step - loss: 5.2461 - acc: 0.6700\n",
      "Epoch 70/100\n",
      "300/300 [==============================] - 0s 148us/step - loss: 5.2400 - acc: 0.6733\n",
      "Epoch 71/100\n",
      "300/300 [==============================] - 0s 124us/step - loss: 5.2384 - acc: 0.6733\n",
      "Epoch 72/100\n",
      "300/300 [==============================] - 0s 113us/step - loss: 5.2393 - acc: 0.6767\n",
      "Epoch 73/100\n",
      "300/300 [==============================] - 0s 116us/step - loss: 5.2387 - acc: 0.6700\n",
      "Epoch 74/100\n",
      "300/300 [==============================] - 0s 114us/step - loss: 5.2390 - acc: 0.6733\n",
      "Epoch 75/100\n",
      "300/300 [==============================] - 0s 114us/step - loss: 5.2405 - acc: 0.6667\n",
      "Epoch 76/100\n",
      "300/300 [==============================] - 0s 146us/step - loss: 5.2361 - acc: 0.6767\n",
      "Epoch 77/100\n",
      "300/300 [==============================] - 0s 114us/step - loss: 5.2393 - acc: 0.6700\n",
      "Epoch 78/100\n",
      "300/300 [==============================] - 0s 109us/step - loss: 5.2375 - acc: 0.6733\n",
      "Epoch 79/100\n",
      "300/300 [==============================] - 0s 154us/step - loss: 5.2374 - acc: 0.6767\n",
      "Epoch 80/100\n",
      "300/300 [==============================] - 0s 178us/step - loss: 5.2359 - acc: 0.6767\n",
      "Epoch 81/100\n",
      "300/300 [==============================] - 0s 176us/step - loss: 5.2353 - acc: 0.6767\n",
      "Epoch 82/100\n",
      "300/300 [==============================] - 0s 157us/step - loss: 5.2379 - acc: 0.6767\n",
      "Epoch 83/100\n"
     ]
    },
    {
     "name": "stdout",
     "output_type": "stream",
     "text": [
      "300/300 [==============================] - 0s 107us/step - loss: 5.2341 - acc: 0.6767\n",
      "Epoch 84/100\n",
      "300/300 [==============================] - 0s 108us/step - loss: 5.2351 - acc: 0.6767\n",
      "Epoch 85/100\n",
      "300/300 [==============================] - 0s 135us/step - loss: 5.2380 - acc: 0.6767\n",
      "Epoch 86/100\n",
      "300/300 [==============================] - 0s 163us/step - loss: 5.2380 - acc: 0.6733\n",
      "Epoch 87/100\n",
      "300/300 [==============================] - 0s 190us/step - loss: 5.2368 - acc: 0.6767\n",
      "Epoch 88/100\n",
      "300/300 [==============================] - 0s 192us/step - loss: 5.2364 - acc: 0.6767\n",
      "Epoch 89/100\n",
      "300/300 [==============================] - 0s 179us/step - loss: 5.2369 - acc: 0.6733\n",
      "Epoch 90/100\n",
      "300/300 [==============================] - 0s 212us/step - loss: 5.2378 - acc: 0.6733\n",
      "Epoch 91/100\n",
      "300/300 [==============================] - 0s 162us/step - loss: 5.2342 - acc: 0.6767\n",
      "Epoch 92/100\n",
      "300/300 [==============================] - 0s 193us/step - loss: 5.2326 - acc: 0.6767\n",
      "Epoch 93/100\n",
      "300/300 [==============================] - 0s 180us/step - loss: 5.2314 - acc: 0.6767\n",
      "Epoch 94/100\n",
      "300/300 [==============================] - 0s 194us/step - loss: 5.2337 - acc: 0.6767\n",
      "Epoch 95/100\n",
      "300/300 [==============================] - 0s 184us/step - loss: 5.2345 - acc: 0.6767\n",
      "Epoch 96/100\n",
      "300/300 [==============================] - 0s 175us/step - loss: 5.2336 - acc: 0.6767\n",
      "Epoch 97/100\n",
      "300/300 [==============================] - 0s 191us/step - loss: 5.2328 - acc: 0.6733\n",
      "Epoch 98/100\n",
      "300/300 [==============================] - 0s 180us/step - loss: 5.2315 - acc: 0.6767\n",
      "Epoch 99/100\n",
      "300/300 [==============================] - 0s 184us/step - loss: 5.2355 - acc: 0.6767\n",
      "Epoch 100/100\n",
      "300/300 [==============================] - 0s 214us/step - loss: 5.2324 - acc: 0.6767\n"
     ]
    },
    {
     "data": {
      "text/plain": [
       "<keras.callbacks.History at 0x195492f5c50>"
      ]
     },
     "execution_count": 18,
     "metadata": {},
     "output_type": "execute_result"
    }
   ],
   "source": [
    "model3 = Sequential([Dense(3, input_shape=(5184,)), Activation('softmax')])\n",
    "sgd = SGD(lr=0.003, decay=1e-6, momentum=0.9, nesterov=True)\n",
    "model3.compile(loss='categorical_crossentropy', optimizer=sgd, metrics=['accuracy'])\n",
    "model3.fit(X_train2, Y_train2, epochs=100, batch_size=32)"
   ]
  },
  {
   "cell_type": "code",
   "execution_count": 19,
   "metadata": {
    "scrolled": true
   },
   "outputs": [
    {
     "name": "stdout",
     "output_type": "stream",
     "text": [
      "Creating data:\n",
      "0\n",
      "10\n",
      "20\n",
      "30\n",
      "40\n",
      "50\n",
      "60\n",
      "70\n",
      "80\n",
      "90\n",
      "100\n",
      "110\n",
      "120\n",
      "130\n",
      "140\n",
      "150\n",
      "160\n",
      "170\n",
      "180\n",
      "190\n",
      "200\n",
      "210\n",
      "220\n",
      "230\n",
      "240\n",
      "250\n",
      "260\n",
      "270\n",
      "280\n",
      "290\n"
     ]
    }
   ],
   "source": [
    "[X_test, Y_test] = generate_test_set_classification()"
   ]
  },
  {
   "cell_type": "code",
   "execution_count": 20,
   "metadata": {},
   "outputs": [
    {
     "name": "stdout",
     "output_type": "stream",
     "text": [
      "300/300 [==============================] - 0s 328us/step\n"
     ]
    },
    {
     "data": {
      "text/plain": [
       "[5.718401018778483, 0.5699999992052714]"
      ]
     },
     "execution_count": 20,
     "metadata": {},
     "output_type": "execute_result"
    }
   ],
   "source": [
    "model3.evaluate(X_test, Y_test)"
   ]
  },
  {
   "cell_type": "markdown",
   "metadata": {},
   "source": [
    "The classifier with SGD seems to be not accurate.\n",
    "We now try with the Adam optimizer."
   ]
  },
  {
   "cell_type": "code",
   "execution_count": 21,
   "metadata": {},
   "outputs": [
    {
     "name": "stdout",
     "output_type": "stream",
     "text": [
      "Epoch 1/100\n",
      "300/300 [==============================] - 0s 1ms/step - loss: 1.8747 - acc: 0.3500\n",
      "Epoch 2/100\n",
      "300/300 [==============================] - 0s 239us/step - loss: 1.2999 - acc: 0.3933\n",
      "Epoch 3/100\n",
      "300/300 [==============================] - 0s 229us/step - loss: 1.2122 - acc: 0.4400\n",
      "Epoch 4/100\n",
      "300/300 [==============================] - 0s 229us/step - loss: 1.0272 - acc: 0.5267\n",
      "Epoch 5/100\n",
      "300/300 [==============================] - 0s 232us/step - loss: 0.9185 - acc: 0.5800\n",
      "Epoch 6/100\n",
      "300/300 [==============================] - 0s 185us/step - loss: 0.9812 - acc: 0.5000\n",
      "Epoch 7/100\n",
      "300/300 [==============================] - 0s 173us/step - loss: 0.9231 - acc: 0.5567\n",
      "Epoch 8/100\n",
      "300/300 [==============================] - 0s 231us/step - loss: 0.9791 - acc: 0.5600\n",
      "Epoch 9/100\n",
      "300/300 [==============================] - 0s 178us/step - loss: 0.8667 - acc: 0.6000\n",
      "Epoch 10/100\n",
      "300/300 [==============================] - 0s 189us/step - loss: 0.9363 - acc: 0.5567\n",
      "Epoch 11/100\n",
      "300/300 [==============================] - 0s 190us/step - loss: 0.8323 - acc: 0.5800\n",
      "Epoch 12/100\n",
      "300/300 [==============================] - 0s 166us/step - loss: 0.8284 - acc: 0.6167\n",
      "Epoch 13/100\n",
      "300/300 [==============================] - 0s 132us/step - loss: 0.7502 - acc: 0.6633\n",
      "Epoch 14/100\n",
      "300/300 [==============================] - 0s 148us/step - loss: 0.7187 - acc: 0.6767\n",
      "Epoch 15/100\n",
      "300/300 [==============================] - 0s 229us/step - loss: 0.7862 - acc: 0.5967\n",
      "Epoch 16/100\n",
      "300/300 [==============================] - 0s 162us/step - loss: 0.8196 - acc: 0.5733\n",
      "Epoch 17/100\n",
      "300/300 [==============================] - 0s 166us/step - loss: 0.8359 - acc: 0.5567\n",
      "Epoch 18/100\n",
      "300/300 [==============================] - 0s 152us/step - loss: 0.8642 - acc: 0.5933\n",
      "Epoch 19/100\n",
      "300/300 [==============================] - 0s 146us/step - loss: 0.7504 - acc: 0.6567\n",
      "Epoch 20/100\n",
      "300/300 [==============================] - 0s 221us/step - loss: 0.7394 - acc: 0.6733\n",
      "Epoch 21/100\n",
      "300/300 [==============================] - 0s 193us/step - loss: 0.7622 - acc: 0.6267\n",
      "Epoch 22/100\n",
      "300/300 [==============================] - 0s 126us/step - loss: 0.9538 - acc: 0.5633\n",
      "Epoch 23/100\n",
      "300/300 [==============================] - 0s 133us/step - loss: 0.7762 - acc: 0.6033\n",
      "Epoch 24/100\n",
      "300/300 [==============================] - 0s 126us/step - loss: 0.6661 - acc: 0.6733\n",
      "Epoch 25/100\n",
      "300/300 [==============================] - 0s 144us/step - loss: 0.7349 - acc: 0.6767\n",
      "Epoch 26/100\n",
      "300/300 [==============================] - 0s 116us/step - loss: 0.7083 - acc: 0.6700\n",
      "Epoch 27/100\n",
      "300/300 [==============================] - 0s 178us/step - loss: 0.6224 - acc: 0.7167\n",
      "Epoch 28/100\n",
      "300/300 [==============================] - 0s 139us/step - loss: 0.6799 - acc: 0.7067\n",
      "Epoch 29/100\n",
      "300/300 [==============================] - 0s 132us/step - loss: 0.6452 - acc: 0.7167\n",
      "Epoch 30/100\n",
      "300/300 [==============================] - 0s 126us/step - loss: 0.7385 - acc: 0.6667\n",
      "Epoch 31/100\n",
      "300/300 [==============================] - 0s 174us/step - loss: 0.6268 - acc: 0.7033\n",
      "Epoch 32/100\n",
      "300/300 [==============================] - 0s 138us/step - loss: 0.7408 - acc: 0.6667\n",
      "Epoch 33/100\n",
      "300/300 [==============================] - 0s 128us/step - loss: 1.0011 - acc: 0.6067\n",
      "Epoch 34/100\n",
      "300/300 [==============================] - 0s 138us/step - loss: 0.8826 - acc: 0.6700\n",
      "Epoch 35/100\n",
      "300/300 [==============================] - 0s 133us/step - loss: 0.9824 - acc: 0.6467\n",
      "Epoch 36/100\n",
      "300/300 [==============================] - 0s 120us/step - loss: 0.7594 - acc: 0.6600\n",
      "Epoch 37/100\n",
      "300/300 [==============================] - 0s 137us/step - loss: 0.5539 - acc: 0.8000\n",
      "Epoch 38/100\n",
      "300/300 [==============================] - 0s 135us/step - loss: 0.5614 - acc: 0.7767\n",
      "Epoch 39/100\n",
      "300/300 [==============================] - 0s 208us/step - loss: 0.6937 - acc: 0.6900\n",
      "Epoch 40/100\n",
      "300/300 [==============================] - 0s 182us/step - loss: 0.6167 - acc: 0.7000\n",
      "Epoch 41/100\n",
      "300/300 [==============================] - 0s 165us/step - loss: 0.6228 - acc: 0.7300\n",
      "Epoch 42/100\n",
      "300/300 [==============================] - 0s 162us/step - loss: 0.6049 - acc: 0.7367\n",
      "Epoch 43/100\n",
      "300/300 [==============================] - 0s 182us/step - loss: 0.7516 - acc: 0.6233\n",
      "Epoch 44/100\n",
      "300/300 [==============================] - 0s 166us/step - loss: 0.5915 - acc: 0.7367\n",
      "Epoch 45/100\n",
      "300/300 [==============================] - 0s 170us/step - loss: 0.6278 - acc: 0.7233\n",
      "Epoch 46/100\n",
      "300/300 [==============================] - 0s 128us/step - loss: 0.6003 - acc: 0.7200\n",
      "Epoch 47/100\n",
      "300/300 [==============================] - 0s 118us/step - loss: 0.5895 - acc: 0.7267\n",
      "Epoch 48/100\n",
      "300/300 [==============================] - 0s 127us/step - loss: 0.5601 - acc: 0.7333\n",
      "Epoch 49/100\n",
      "300/300 [==============================] - 0s 125us/step - loss: 0.5984 - acc: 0.7000\n",
      "Epoch 50/100\n",
      "300/300 [==============================] - 0s 117us/step - loss: 0.6109 - acc: 0.7300\n",
      "Epoch 51/100\n",
      "300/300 [==============================] - 0s 145us/step - loss: 0.6074 - acc: 0.7000\n",
      "Epoch 52/100\n",
      "300/300 [==============================] - 0s 124us/step - loss: 0.6177 - acc: 0.6867\n",
      "Epoch 53/100\n",
      "300/300 [==============================] - 0s 133us/step - loss: 0.5946 - acc: 0.7167\n",
      "Epoch 54/100\n",
      "300/300 [==============================] - 0s 135us/step - loss: 0.8428 - acc: 0.6300\n",
      "Epoch 55/100\n",
      "300/300 [==============================] - 0s 109us/step - loss: 0.8219 - acc: 0.6433\n",
      "Epoch 56/100\n",
      "300/300 [==============================] - 0s 125us/step - loss: 0.5233 - acc: 0.7567\n",
      "Epoch 57/100\n",
      "300/300 [==============================] - 0s 126us/step - loss: 0.5768 - acc: 0.7333\n",
      "Epoch 58/100\n",
      "300/300 [==============================] - 0s 115us/step - loss: 0.5806 - acc: 0.7333\n",
      "Epoch 59/100\n",
      "300/300 [==============================] - 0s 139us/step - loss: 0.5442 - acc: 0.7333\n",
      "Epoch 60/100\n",
      "300/300 [==============================] - 0s 131us/step - loss: 0.5721 - acc: 0.7133\n",
      "Epoch 61/100\n",
      "300/300 [==============================] - 0s 161us/step - loss: 0.5069 - acc: 0.7567\n",
      "Epoch 62/100\n",
      "300/300 [==============================] - 0s 120us/step - loss: 0.5018 - acc: 0.7733\n",
      "Epoch 63/100\n",
      "300/300 [==============================] - 0s 111us/step - loss: 0.4705 - acc: 0.8333\n",
      "Epoch 64/100\n",
      "300/300 [==============================] - 0s 121us/step - loss: 0.4827 - acc: 0.8233\n",
      "Epoch 65/100\n",
      "300/300 [==============================] - 0s 243us/step - loss: 0.4989 - acc: 0.7800\n",
      "Epoch 66/100\n",
      "300/300 [==============================] - 0s 140us/step - loss: 0.4674 - acc: 0.8200\n",
      "Epoch 67/100\n",
      "300/300 [==============================] - 0s 130us/step - loss: 0.4740 - acc: 0.8067\n",
      "Epoch 68/100\n",
      "300/300 [==============================] - 0s 123us/step - loss: 0.4601 - acc: 0.8000\n",
      "Epoch 69/100\n",
      "300/300 [==============================] - 0s 116us/step - loss: 0.4872 - acc: 0.7800\n",
      "Epoch 70/100\n",
      "300/300 [==============================] - 0s 124us/step - loss: 0.4992 - acc: 0.7800\n",
      "Epoch 71/100\n",
      "300/300 [==============================] - 0s 162us/step - loss: 0.6588 - acc: 0.7467\n",
      "Epoch 72/100\n",
      "300/300 [==============================] - 0s 152us/step - loss: 0.4946 - acc: 0.7800\n",
      "Epoch 73/100\n",
      "300/300 [==============================] - 0s 152us/step - loss: 0.5177 - acc: 0.7367\n",
      "Epoch 74/100\n",
      "300/300 [==============================] - 0s 140us/step - loss: 0.4601 - acc: 0.8033\n",
      "Epoch 75/100\n",
      "300/300 [==============================] - 0s 138us/step - loss: 0.4901 - acc: 0.7800\n",
      "Epoch 76/100\n",
      "300/300 [==============================] - 0s 132us/step - loss: 0.4392 - acc: 0.8133\n",
      "Epoch 77/100\n",
      "300/300 [==============================] - 0s 137us/step - loss: 0.4576 - acc: 0.8300\n",
      "Epoch 78/100\n",
      "300/300 [==============================] - 0s 134us/step - loss: 0.4984 - acc: 0.7633\n",
      "Epoch 79/100\n",
      "300/300 [==============================] - 0s 149us/step - loss: 0.4412 - acc: 0.8100\n",
      "Epoch 80/100\n",
      "300/300 [==============================] - 0s 186us/step - loss: 0.5401 - acc: 0.7367\n",
      "Epoch 81/100\n",
      "300/300 [==============================] - 0s 173us/step - loss: 0.8205 - acc: 0.6633\n",
      "Epoch 82/100\n",
      "300/300 [==============================] - 0s 189us/step - loss: 0.7788 - acc: 0.6367\n",
      "Epoch 83/100\n"
     ]
    },
    {
     "name": "stdout",
     "output_type": "stream",
     "text": [
      "300/300 [==============================] - 0s 195us/step - loss: 0.5597 - acc: 0.7567\n",
      "Epoch 84/100\n",
      "300/300 [==============================] - 0s 186us/step - loss: 0.5395 - acc: 0.7467\n",
      "Epoch 85/100\n",
      "300/300 [==============================] - 0s 135us/step - loss: 0.5273 - acc: 0.7567\n",
      "Epoch 86/100\n",
      "300/300 [==============================] - 0s 151us/step - loss: 0.4469 - acc: 0.8300\n",
      "Epoch 87/100\n",
      "300/300 [==============================] - 0s 218us/step - loss: 0.3987 - acc: 0.8667\n",
      "Epoch 88/100\n",
      "300/300 [==============================] - 0s 197us/step - loss: 0.4162 - acc: 0.8600\n",
      "Epoch 89/100\n",
      "300/300 [==============================] - 0s 173us/step - loss: 0.4711 - acc: 0.8167\n",
      "Epoch 90/100\n",
      "300/300 [==============================] - 0s 208us/step - loss: 0.3994 - acc: 0.8433\n",
      "Epoch 91/100\n",
      "300/300 [==============================] - 0s 188us/step - loss: 0.3854 - acc: 0.8700\n",
      "Epoch 92/100\n",
      "300/300 [==============================] - 0s 178us/step - loss: 0.4100 - acc: 0.8367\n",
      "Epoch 93/100\n",
      "300/300 [==============================] - 0s 226us/step - loss: 0.4073 - acc: 0.8467\n",
      "Epoch 94/100\n",
      "300/300 [==============================] - 0s 190us/step - loss: 0.4459 - acc: 0.7767\n",
      "Epoch 95/100\n",
      "300/300 [==============================] - 0s 188us/step - loss: 0.6252 - acc: 0.7000\n",
      "Epoch 96/100\n",
      "300/300 [==============================] - 0s 227us/step - loss: 0.5339 - acc: 0.7400\n",
      "Epoch 97/100\n",
      "300/300 [==============================] - 0s 180us/step - loss: 0.4094 - acc: 0.8400\n",
      "Epoch 98/100\n",
      "300/300 [==============================] - 0s 217us/step - loss: 0.4010 - acc: 0.8333\n",
      "Epoch 99/100\n",
      "300/300 [==============================] - 0s 185us/step - loss: 0.3926 - acc: 0.8600\n",
      "Epoch 100/100\n",
      "300/300 [==============================] - 0s 200us/step - loss: 0.4684 - acc: 0.7933\n"
     ]
    },
    {
     "data": {
      "text/plain": [
       "<keras.callbacks.History at 0x19548f96908>"
      ]
     },
     "execution_count": 21,
     "metadata": {},
     "output_type": "execute_result"
    }
   ],
   "source": [
    "model4 = Sequential([Dense(3, input_shape=(5184,)), Activation('softmax')])\n",
    "model4.compile(loss='categorical_crossentropy',optimizer='adam',metrics=['accuracy'])\n",
    "model4.fit(X_train2, Y_train2, batch_size=32, epochs=100)"
   ]
  },
  {
   "cell_type": "code",
   "execution_count": 22,
   "metadata": {},
   "outputs": [
    {
     "name": "stdout",
     "output_type": "stream",
     "text": [
      "300/300 [==============================] - 0s 491us/step\n"
     ]
    },
    {
     "data": {
      "text/plain": [
       "[1.1530167007446288, 0.59]"
      ]
     },
     "execution_count": 22,
     "metadata": {},
     "output_type": "execute_result"
    }
   ],
   "source": [
    "model4.evaluate(X_test, Y_test)"
   ]
  },
  {
   "cell_type": "markdown",
   "metadata": {},
   "source": [
    "We have more accuracy with the Adam optimizer but the classifier still is not efficient enough."
   ]
  },
  {
   "cell_type": "markdown",
   "metadata": {},
   "source": [
    "We will then try a convolutional network."
   ]
  },
  {
   "cell_type": "code",
   "execution_count": 23,
   "metadata": {
    "scrolled": true
   },
   "outputs": [
    {
     "name": "stdout",
     "output_type": "stream",
     "text": [
      "Epoch 1/100\n",
      "300/300 [==============================] - 2s 7ms/step - loss: 1.1606 - acc: 0.4000\n",
      "Epoch 2/100\n",
      "300/300 [==============================] - 2s 6ms/step - loss: 0.9550 - acc: 0.6333\n",
      "Epoch 3/100\n",
      "300/300 [==============================] - 2s 5ms/step - loss: 0.8028 - acc: 0.7633\n",
      "Epoch 4/100\n",
      "300/300 [==============================] - 2s 5ms/step - loss: 0.6717 - acc: 0.8000\n",
      "Epoch 5/100\n",
      "300/300 [==============================] - 2s 5ms/step - loss: 0.6024 - acc: 0.7867\n",
      "Epoch 6/100\n",
      "300/300 [==============================] - 1s 5ms/step - loss: 0.5190 - acc: 0.8467\n",
      "Epoch 7/100\n",
      "300/300 [==============================] - 1s 5ms/step - loss: 0.4464 - acc: 0.8800\n",
      "Epoch 8/100\n",
      "300/300 [==============================] - 2s 5ms/step - loss: 0.4156 - acc: 0.9067\n",
      "Epoch 9/100\n",
      "300/300 [==============================] - 2s 5ms/step - loss: 0.3988 - acc: 0.8867\n",
      "Epoch 10/100\n",
      "300/300 [==============================] - 2s 5ms/step - loss: 0.3436 - acc: 0.9167\n",
      "Epoch 11/100\n",
      "300/300 [==============================] - 2s 5ms/step - loss: 0.3381 - acc: 0.9067\n",
      "Epoch 12/100\n",
      "300/300 [==============================] - 2s 6ms/step - loss: 0.2978 - acc: 0.9333\n",
      "Epoch 13/100\n",
      "300/300 [==============================] - 2s 5ms/step - loss: 0.2733 - acc: 0.9567\n",
      "Epoch 14/100\n",
      "300/300 [==============================] - 2s 5ms/step - loss: 0.2437 - acc: 0.9633\n",
      "Epoch 15/100\n",
      "300/300 [==============================] - 2s 5ms/step - loss: 0.2194 - acc: 0.9833\n",
      "Epoch 16/100\n",
      "300/300 [==============================] - 2s 5ms/step - loss: 0.1995 - acc: 0.9800\n",
      "Epoch 17/100\n",
      "300/300 [==============================] - 2s 5ms/step - loss: 0.1859 - acc: 0.9800\n",
      "Epoch 18/100\n",
      "300/300 [==============================] - 2s 5ms/step - loss: 0.1759 - acc: 0.9900\n",
      "Epoch 19/100\n",
      "300/300 [==============================] - 2s 5ms/step - loss: 0.1649 - acc: 0.9933\n",
      "Epoch 20/100\n",
      "300/300 [==============================] - 2s 5ms/step - loss: 0.1441 - acc: 1.0000\n",
      "Epoch 21/100\n",
      "300/300 [==============================] - 1s 5ms/step - loss: 0.1355 - acc: 0.9967\n",
      "Epoch 22/100\n",
      "300/300 [==============================] - 2s 5ms/step - loss: 0.1459 - acc: 0.9900\n",
      "Epoch 23/100\n",
      "300/300 [==============================] - 2s 6ms/step - loss: 0.1281 - acc: 0.9967\n",
      "Epoch 24/100\n",
      "300/300 [==============================] - 2s 5ms/step - loss: 0.1157 - acc: 0.9967\n",
      "Epoch 25/100\n",
      "300/300 [==============================] - 2s 5ms/step - loss: 0.1025 - acc: 0.9967\n",
      "Epoch 26/100\n",
      "300/300 [==============================] - 1s 5ms/step - loss: 0.0943 - acc: 1.0000\n",
      "Epoch 27/100\n",
      "300/300 [==============================] - 1s 5ms/step - loss: 0.0892 - acc: 1.0000\n",
      "Epoch 28/100\n",
      "300/300 [==============================] - 2s 5ms/step - loss: 0.0838 - acc: 1.0000\n",
      "Epoch 29/100\n",
      "300/300 [==============================] - 1s 5ms/step - loss: 0.0737 - acc: 1.0000\n",
      "Epoch 30/100\n",
      "300/300 [==============================] - 1s 5ms/step - loss: 0.0702 - acc: 1.0000\n",
      "Epoch 31/100\n",
      "300/300 [==============================] - 2s 5ms/step - loss: 0.0674 - acc: 1.0000\n",
      "Epoch 32/100\n",
      "300/300 [==============================] - 2s 5ms/step - loss: 0.0623 - acc: 1.0000\n",
      "Epoch 33/100\n",
      "300/300 [==============================] - 2s 5ms/step - loss: 0.0574 - acc: 1.0000\n",
      "Epoch 34/100\n",
      "300/300 [==============================] - 2s 5ms/step - loss: 0.0609 - acc: 1.0000\n",
      "Epoch 35/100\n",
      "300/300 [==============================] - 2s 5ms/step - loss: 0.0557 - acc: 1.0000\n",
      "Epoch 36/100\n",
      "300/300 [==============================] - 2s 5ms/step - loss: 0.0493 - acc: 1.0000\n",
      "Epoch 37/100\n",
      "300/300 [==============================] - 1s 5ms/step - loss: 0.0523 - acc: 1.0000\n",
      "Epoch 38/100\n",
      "300/300 [==============================] - 2s 5ms/step - loss: 0.0489 - acc: 1.0000\n",
      "Epoch 39/100\n",
      "300/300 [==============================] - 2s 5ms/step - loss: 0.0417 - acc: 1.0000\n",
      "Epoch 40/100\n",
      "300/300 [==============================] - 2s 5ms/step - loss: 0.0423 - acc: 1.0000\n",
      "Epoch 41/100\n",
      "300/300 [==============================] - 1s 5ms/step - loss: 0.0394 - acc: 1.0000\n",
      "Epoch 42/100\n",
      "300/300 [==============================] - 2s 5ms/step - loss: 0.0408 - acc: 1.0000\n",
      "Epoch 43/100\n",
      "300/300 [==============================] - 2s 5ms/step - loss: 0.0364 - acc: 1.0000\n",
      "Epoch 44/100\n",
      "300/300 [==============================] - 2s 5ms/step - loss: 0.0321 - acc: 1.0000\n",
      "Epoch 45/100\n",
      "300/300 [==============================] - 1s 5ms/step - loss: 0.0307 - acc: 1.0000\n",
      "Epoch 46/100\n",
      "300/300 [==============================] - 1s 5ms/step - loss: 0.0293 - acc: 1.0000\n",
      "Epoch 47/100\n",
      "300/300 [==============================] - 1s 5ms/step - loss: 0.0277 - acc: 1.0000\n",
      "Epoch 48/100\n",
      "300/300 [==============================] - 1s 5ms/step - loss: 0.0266 - acc: 1.0000\n",
      "Epoch 49/100\n",
      "300/300 [==============================] - 1s 5ms/step - loss: 0.0251 - acc: 1.0000\n",
      "Epoch 50/100\n",
      "300/300 [==============================] - 1s 5ms/step - loss: 0.0240 - acc: 1.0000\n",
      "Epoch 51/100\n",
      "300/300 [==============================] - 1s 5ms/step - loss: 0.0242 - acc: 1.0000\n",
      "Epoch 52/100\n",
      "300/300 [==============================] - 1s 5ms/step - loss: 0.0236 - acc: 1.0000\n",
      "Epoch 53/100\n",
      "300/300 [==============================] - 1s 5ms/step - loss: 0.0222 - acc: 1.0000\n",
      "Epoch 54/100\n",
      "300/300 [==============================] - 1s 5ms/step - loss: 0.0212 - acc: 1.0000\n",
      "Epoch 55/100\n",
      "300/300 [==============================] - 1s 5ms/step - loss: 0.0212 - acc: 1.0000\n",
      "Epoch 56/100\n",
      "300/300 [==============================] - 2s 5ms/step - loss: 0.0238 - acc: 1.0000\n",
      "Epoch 57/100\n",
      "300/300 [==============================] - 1s 5ms/step - loss: 0.0233 - acc: 1.0000\n",
      "Epoch 58/100\n",
      "300/300 [==============================] - 1s 5ms/step - loss: 0.0195 - acc: 1.0000\n",
      "Epoch 59/100\n",
      "300/300 [==============================] - 2s 5ms/step - loss: 0.0182 - acc: 1.0000\n",
      "Epoch 60/100\n",
      "300/300 [==============================] - 2s 5ms/step - loss: 0.0211 - acc: 1.0000\n",
      "Epoch 61/100\n",
      "300/300 [==============================] - 1s 5ms/step - loss: 0.0184 - acc: 1.0000\n",
      "Epoch 62/100\n",
      "300/300 [==============================] - 2s 5ms/step - loss: 0.0163 - acc: 1.0000\n",
      "Epoch 63/100\n",
      "300/300 [==============================] - 2s 5ms/step - loss: 0.0158 - acc: 1.0000\n",
      "Epoch 64/100\n",
      "300/300 [==============================] - 2s 5ms/step - loss: 0.0148 - acc: 1.0000\n",
      "Epoch 65/100\n",
      "300/300 [==============================] - 2s 5ms/step - loss: 0.0145 - acc: 1.0000\n",
      "Epoch 66/100\n",
      "300/300 [==============================] - 2s 5ms/step - loss: 0.0138 - acc: 1.0000\n",
      "Epoch 67/100\n",
      "300/300 [==============================] - 2s 5ms/step - loss: 0.0131 - acc: 1.0000\n",
      "Epoch 68/100\n",
      "300/300 [==============================] - 2s 5ms/step - loss: 0.0127 - acc: 1.0000\n",
      "Epoch 69/100\n",
      "300/300 [==============================] - 2s 5ms/step - loss: 0.0124 - acc: 1.0000\n",
      "Epoch 70/100\n",
      "300/300 [==============================] - 1s 5ms/step - loss: 0.0125 - acc: 1.0000\n",
      "Epoch 71/100\n",
      "300/300 [==============================] - 1s 5ms/step - loss: 0.0118 - acc: 1.0000\n",
      "Epoch 72/100\n",
      "300/300 [==============================] - 1s 5ms/step - loss: 0.0115 - acc: 1.0000\n",
      "Epoch 73/100\n",
      "300/300 [==============================] - 1s 5ms/step - loss: 0.0109 - acc: 1.0000\n",
      "Epoch 74/100\n",
      "300/300 [==============================] - 2s 5ms/step - loss: 0.0105 - acc: 1.0000\n",
      "Epoch 75/100\n",
      "300/300 [==============================] - 2s 5ms/step - loss: 0.0105 - acc: 1.0000\n",
      "Epoch 76/100\n",
      "300/300 [==============================] - 2s 5ms/step - loss: 0.0098 - acc: 1.0000\n",
      "Epoch 77/100\n",
      "300/300 [==============================] - 2s 5ms/step - loss: 0.0104 - acc: 1.0000\n",
      "Epoch 78/100\n",
      "300/300 [==============================] - 1s 5ms/step - loss: 0.0098 - acc: 1.0000\n",
      "Epoch 79/100\n",
      "300/300 [==============================] - 1s 5ms/step - loss: 0.0093 - acc: 1.0000\n",
      "Epoch 80/100\n",
      "300/300 [==============================] - 1s 5ms/step - loss: 0.0089 - acc: 1.0000\n",
      "Epoch 81/100\n",
      "300/300 [==============================] - 2s 5ms/step - loss: 0.0088 - acc: 1.0000\n",
      "Epoch 82/100\n",
      "300/300 [==============================] - 2s 5ms/step - loss: 0.0087 - acc: 1.0000\n",
      "Epoch 83/100\n",
      "300/300 [==============================] - 1s 5ms/step - loss: 0.0084 - acc: 1.0000\n",
      "Epoch 84/100\n",
      "300/300 [==============================] - 1s 5ms/step - loss: 0.0081 - acc: 1.0000\n",
      "Epoch 85/100\n"
     ]
    },
    {
     "name": "stdout",
     "output_type": "stream",
     "text": [
      "300/300 [==============================] - 2s 5ms/step - loss: 0.0081 - acc: 1.0000\n",
      "Epoch 86/100\n",
      "300/300 [==============================] - 2s 5ms/step - loss: 0.0082 - acc: 1.0000\n",
      "Epoch 87/100\n",
      "300/300 [==============================] - 2s 5ms/step - loss: 0.0091 - acc: 1.0000A: 1s - loss: 0.0118 - acc:\n",
      "Epoch 88/100\n",
      "300/300 [==============================] - 2s 5ms/step - loss: 0.0074 - acc: 1.0000\n",
      "Epoch 89/100\n",
      "300/300 [==============================] - 2s 5ms/step - loss: 0.0073 - acc: 1.0000\n",
      "Epoch 90/100\n",
      "300/300 [==============================] - 2s 5ms/step - loss: 0.0069 - acc: 1.0000\n",
      "Epoch 91/100\n",
      "300/300 [==============================] - 1s 5ms/step - loss: 0.0071 - acc: 1.0000\n",
      "Epoch 92/100\n",
      "300/300 [==============================] - 2s 5ms/step - loss: 0.0067 - acc: 1.0000\n",
      "Epoch 93/100\n",
      "300/300 [==============================] - 2s 5ms/step - loss: 0.0066 - acc: 1.0000\n",
      "Epoch 94/100\n",
      "300/300 [==============================] - 2s 5ms/step - loss: 0.0065 - acc: 1.0000\n",
      "Epoch 95/100\n",
      "300/300 [==============================] - 1s 4ms/step - loss: 0.0063 - acc: 1.0000\n",
      "Epoch 96/100\n",
      "300/300 [==============================] - 2s 5ms/step - loss: 0.0061 - acc: 1.0000\n",
      "Epoch 97/100\n",
      "300/300 [==============================] - 2s 5ms/step - loss: 0.0061 - acc: 1.0000\n",
      "Epoch 98/100\n",
      "300/300 [==============================] - 2s 6ms/step - loss: 0.0059 - acc: 1.0000\n",
      "Epoch 99/100\n",
      "300/300 [==============================] - 2s 5ms/step - loss: 0.0057 - acc: 1.0000\n",
      "Epoch 100/100\n",
      "300/300 [==============================] - 2s 5ms/step - loss: 0.0057 - acc: 1.0000\n"
     ]
    },
    {
     "data": {
      "text/plain": [
       "<keras.callbacks.History at 0x1954a9d17b8>"
      ]
     },
     "execution_count": 23,
     "metadata": {},
     "output_type": "execute_result"
    }
   ],
   "source": [
    "X_train2 = X_train2.reshape(X_train2.shape[0],72,72,1)\n",
    "model5 = Sequential()\n",
    "model5.add(Conv2D(16, (5, 5), activation='relu',input_shape=(72, 72, 1)))\n",
    "model5.add(MaxPooling2D(pool_size=(2, 2)))\n",
    "model5.add(Flatten())\n",
    "model5.add(Dense(3,activation='softmax'))\n",
    "model5.compile(loss='categorical_crossentropy',optimizer='adam',metrics=['accuracy'])\n",
    "model5.fit(X_train2, Y_train2,batch_size=32, epochs=100)"
   ]
  },
  {
   "cell_type": "code",
   "execution_count": 24,
   "metadata": {},
   "outputs": [],
   "source": [
    "X_test = X_test.reshape(X_test.shape[0],72,72,1)"
   ]
  },
  {
   "cell_type": "code",
   "execution_count": 25,
   "metadata": {},
   "outputs": [
    {
     "name": "stdout",
     "output_type": "stream",
     "text": [
      "300/300 [==============================] - 1s 3ms/step\n"
     ]
    },
    {
     "data": {
      "text/plain": [
       "[1.0079577493667602, 0.7266666674613953]"
      ]
     },
     "execution_count": 25,
     "metadata": {},
     "output_type": "execute_result"
    }
   ],
   "source": [
    "model5.evaluate(X_test,Y_test)"
   ]
  },
  {
   "cell_type": "markdown",
   "metadata": {},
   "source": [
    "The classification is now more accurate."
   ]
  },
  {
   "cell_type": "markdown",
   "metadata": {},
   "source": [
    "# A regression problem"
   ]
  },
  {
   "cell_type": "markdown",
   "metadata": {},
   "source": [
    "I did not find a solution to this problem. What follows is my attempt."
   ]
  },
  {
   "cell_type": "markdown",
   "metadata": {},
   "source": [
    "First, we generate and visualize the data."
   ]
  },
  {
   "cell_type": "code",
   "execution_count": 26,
   "metadata": {
    "scrolled": true
   },
   "outputs": [
    {
     "name": "stdout",
     "output_type": "stream",
     "text": [
      "Creating data:\n",
      "0\n",
      "10\n",
      "20\n",
      "30\n",
      "40\n",
      "50\n",
      "60\n",
      "70\n",
      "80\n",
      "90\n",
      "100\n",
      "110\n",
      "120\n",
      "130\n",
      "140\n",
      "150\n",
      "160\n",
      "170\n",
      "180\n",
      "190\n",
      "200\n",
      "210\n",
      "220\n",
      "230\n",
      "240\n",
      "250\n",
      "260\n",
      "270\n",
      "280\n",
      "290\n"
     ]
    }
   ],
   "source": [
    "[X_train3, Y_train3] = generate_dataset_regression(300, 20)"
   ]
  },
  {
   "cell_type": "code",
   "execution_count": 27,
   "metadata": {
    "scrolled": false
   },
   "outputs": [
    {
     "data": {
      "image/png": "[encoded data removed]",
      "text/plain": [
       "<Figure size 360x360 with 1 Axes>"
      ]
     },
     "metadata": {},
     "output_type": "display_data"
    }
   ],
   "source": [
    "visualize_prediction(X_train3[0], Y_train3[0])"
   ]
  },
  {
   "cell_type": "code",
   "execution_count": 28,
   "metadata": {
    "scrolled": true
   },
   "outputs": [
    {
     "name": "stdout",
     "output_type": "stream",
     "text": [
      "Creating data:\n",
      "0\n",
      "10\n",
      "20\n",
      "30\n",
      "40\n",
      "50\n",
      "60\n",
      "70\n",
      "80\n",
      "90\n",
      "100\n",
      "110\n",
      "120\n",
      "130\n",
      "140\n",
      "150\n",
      "160\n",
      "170\n",
      "180\n",
      "190\n",
      "200\n",
      "210\n",
      "220\n",
      "230\n",
      "240\n",
      "250\n",
      "260\n",
      "270\n",
      "280\n",
      "290\n"
     ]
    }
   ],
   "source": [
    "[X_test2, Y_test2] = generate_test_set_regression()"
   ]
  },
  {
   "cell_type": "markdown",
   "metadata": {},
   "source": [
    "Then we can normalize the vertices of the triangle, using the maximum and the minimum of the coordinates of all vertices, so that all the coordinates is between -1 and 1."
   ]
  },
  {
   "cell_type": "code",
   "execution_count": 29,
   "metadata": {},
   "outputs": [],
   "source": [
    "x1_M = np.max(Y_train3[:,0])\n",
    "x1_m = np.min(Y_train3[:,0])\n",
    "x2_M = np.max(Y_train3[:,2])\n",
    "x2_m = np.min(Y_train3[:,2])\n",
    "x3_M = np.max(Y_train3[:,4])\n",
    "x3_m = np.min(Y_train3[:,4])\n",
    "y1_M = np.max(Y_train3[:,1])\n",
    "y1_m = np.min(Y_train3[:,1])\n",
    "y2_M = np.max(Y_train3[:,3])\n",
    "y2_m = np.min(Y_train3[:,3])\n",
    "y3_M = np.max(Y_train3[:,5])\n",
    "y3_m = np.min(Y_train3[:,5])\n",
    "\n",
    "x1_Mt = np.max(Y_test2[:,0])\n",
    "x1_mt = np.min(Y_test2[:,0])\n",
    "x2_Mt = np.max(Y_test2[:,2])\n",
    "x2_mt = np.min(Y_test2[:,2])\n",
    "x3_Mt = np.max(Y_test2[:,4])\n",
    "x3_mt = np.min(Y_test2[:,4])\n",
    "y1_Mt = np.max(Y_test2[:,1])\n",
    "y1_mt = np.min(Y_test2[:,1])\n",
    "y2_Mt = np.max(Y_test2[:,3])\n",
    "y2_mt = np.min(Y_test2[:,3])\n",
    "y3_Mt = np.max(Y_test2[:,5])\n",
    "y3_mt = np.min(Y_test2[:,5])\n",
    "\n",
    "x_M = np.max(np.array([x1_M,x2_M,x3_M]))\n",
    "x_m = np.min(np.array([x1_m,x2_m,x3_m]))\n",
    "y_M = np.max(np.array([y1_M,y2_M,y3_M]))\n",
    "y_m = np.min(np.array([y1_m,y2_m,y3_m]))\n",
    "\n",
    "x_Mt = np.max(np.array([x1_Mt,x2_Mt,x3_Mt]))\n",
    "x_mt = np.min(np.array([x1_mt,x2_mt,x3_mt]))\n",
    "y_Mt = np.max(np.array([y1_Mt,y2_Mt,y3_Mt]))\n",
    "y_mt = np.min(np.array([y1_mt,y2_mt,y3_mt]))"
   ]
  },
  {
   "cell_type": "code",
   "execution_count": 30,
   "metadata": {},
   "outputs": [],
   "source": [
    "Y_train3_bis = np.copy(Y_train3)\n",
    "Y_train3_bis[:,0] = 2*(Y_train3_bis[:,0] - x_m)/(x_M-x_m) - 1\n",
    "Y_train3_bis[:,2] = 2*(Y_train3_bis[:,2] - x_m)/(x_M-x_m) - 1\n",
    "Y_train3_bis[:,4] = 2*(Y_train3_bis[:,4] - x_m)/(x_M-x_m) - 1\n",
    "Y_train3_bis[:,1] = 2*(Y_train3_bis[:,1] - y_m)/(y_M-y_m) - 1\n",
    "Y_train3_bis[:,3] = 2*(Y_train3_bis[:,3] - y_m)/(y_M-y_m) - 1\n",
    "Y_train3_bis[:,5] = 2*(Y_train3_bis[:,5] - y_m)/(y_M-y_m) - 1\n",
    "\n",
    "Y_test2_bis = np.copy(Y_test2)\n",
    "Y_test2_bis[:,0] = 2*(Y_test2_bis[:,0] - x_mt)/(x_Mt-x_mt) - 1\n",
    "Y_test2_bis[:,2] = 2*(Y_test2_bis[:,2] - x_mt)/(x_Mt-x_mt) - 1\n",
    "Y_test2_bis[:,4] = 2*(Y_test2_bis[:,4] - x_mt)/(x_Mt-x_mt) - 1\n",
    "Y_test2_bis[:,1] = 2*(Y_test2_bis[:,1] - y_mt)/(y_Mt-y_mt) - 1\n",
    "Y_test2_bis[:,3] = 2*(Y_test2_bis[:,3] - y_mt)/(y_Mt-y_mt) - 1\n",
    "Y_test2_bis[:,5] = 2*(Y_test2_bis[:,5] - y_mt)/(y_Mt-y_mt) - 1"
   ]
  },
  {
   "cell_type": "code",
   "execution_count": 31,
   "metadata": {
    "scrolled": true
   },
   "outputs": [
    {
     "name": "stdout",
     "output_type": "stream",
     "text": [
      "Epoch 1/100\n",
      "300/300 [==============================] - 3s 12ms/step - loss: 0.3756\n",
      "Epoch 2/100\n",
      "300/300 [==============================] - 2s 7ms/step - loss: 0.3755\n",
      "Epoch 3/100\n",
      "300/300 [==============================] - 2s 8ms/step - loss: 0.3755\n",
      "Epoch 4/100\n",
      "300/300 [==============================] - 2s 8ms/step - loss: 0.3754\n",
      "Epoch 5/100\n",
      "300/300 [==============================] - 2s 8ms/step - loss: 0.3754\n",
      "Epoch 6/100\n",
      "300/300 [==============================] - 2s 7ms/step - loss: 0.3754\n",
      "Epoch 7/100\n",
      "300/300 [==============================] - 2s 7ms/step - loss: 0.3754\n",
      "Epoch 8/100\n",
      "300/300 [==============================] - 2s 7ms/step - loss: 0.3754\n",
      "Epoch 9/100\n",
      "300/300 [==============================] - 2s 7ms/step - loss: 0.3753\n",
      "Epoch 10/100\n",
      "300/300 [==============================] - 2s 7ms/step - loss: 0.3753\n",
      "Epoch 11/100\n",
      "300/300 [==============================] - 2s 8ms/step - loss: 0.3753\n",
      "Epoch 12/100\n",
      "300/300 [==============================] - 2s 8ms/step - loss: 0.3753\n",
      "Epoch 13/100\n",
      "300/300 [==============================] - 2s 7ms/step - loss: 0.3753\n",
      "Epoch 14/100\n",
      "300/300 [==============================] - 2s 7ms/step - loss: 0.3753\n",
      "Epoch 15/100\n",
      "300/300 [==============================] - 2s 7ms/step - loss: 0.3752\n",
      "Epoch 16/100\n",
      "300/300 [==============================] - 2s 7ms/step - loss: 0.3752\n",
      "Epoch 17/100\n",
      "300/300 [==============================] - 2s 7ms/step - loss: 0.3752\n",
      "Epoch 18/100\n",
      "300/300 [==============================] - 2s 8ms/step - loss: 0.3752\n",
      "Epoch 19/100\n",
      "300/300 [==============================] - 2s 8ms/step - loss: 0.3752\n",
      "Epoch 20/100\n",
      "300/300 [==============================] - 2s 7ms/step - loss: 0.3752\n",
      "Epoch 21/100\n",
      "300/300 [==============================] - 2s 7ms/step - loss: 0.3752\n",
      "Epoch 22/100\n",
      "300/300 [==============================] - 2s 7ms/step - loss: 0.3752\n",
      "Epoch 23/100\n",
      "300/300 [==============================] - 2s 7ms/step - loss: 0.3752\n",
      "Epoch 24/100\n",
      "300/300 [==============================] - 2s 7ms/step - loss: 0.3752\n",
      "Epoch 25/100\n",
      "300/300 [==============================] - 2s 8ms/step - loss: 0.3752\n",
      "Epoch 26/100\n",
      "300/300 [==============================] - 2s 8ms/step - loss: 0.3751\n",
      "Epoch 27/100\n",
      "300/300 [==============================] - 2s 7ms/step - loss: 0.3751\n",
      "Epoch 28/100\n",
      "300/300 [==============================] - 2s 7ms/step - loss: 0.3751\n",
      "Epoch 29/100\n",
      "300/300 [==============================] - 2s 7ms/step - loss: 0.3751\n",
      "Epoch 30/100\n",
      "300/300 [==============================] - 2s 7ms/step - loss: 0.3751\n",
      "Epoch 31/100\n",
      "300/300 [==============================] - 2s 7ms/step - loss: 0.3751\n",
      "Epoch 32/100\n",
      "300/300 [==============================] - 2s 8ms/step - loss: 0.3751\n",
      "Epoch 33/100\n",
      "300/300 [==============================] - 2s 7ms/step - loss: 0.3751\n",
      "Epoch 34/100\n",
      "300/300 [==============================] - 2s 6ms/step - loss: 0.3751\n",
      "Epoch 35/100\n",
      "300/300 [==============================] - 2s 7ms/step - loss: 0.3751\n",
      "Epoch 36/100\n",
      "300/300 [==============================] - 2s 7ms/step - loss: 0.3751\n",
      "Epoch 37/100\n",
      "300/300 [==============================] - 2s 7ms/step - loss: 0.3751\n",
      "Epoch 38/100\n",
      "300/300 [==============================] - 2s 7ms/step - loss: 0.3751\n",
      "Epoch 39/100\n",
      "300/300 [==============================] - 2s 7ms/step - loss: 0.3751\n",
      "Epoch 40/100\n",
      "300/300 [==============================] - 2s 7ms/step - loss: 0.3751\n",
      "Epoch 41/100\n",
      "300/300 [==============================] - 2s 7ms/step - loss: 0.3751\n",
      "Epoch 42/100\n",
      "300/300 [==============================] - 2s 6ms/step - loss: 0.3751\n",
      "Epoch 43/100\n",
      "300/300 [==============================] - 2s 7ms/step - loss: 0.3751\n",
      "Epoch 44/100\n",
      "300/300 [==============================] - 2s 7ms/step - loss: 0.3751\n",
      "Epoch 45/100\n",
      "300/300 [==============================] - 2s 7ms/step - loss: 0.3751\n",
      "Epoch 46/100\n",
      "300/300 [==============================] - 2s 7ms/step - loss: 0.3751\n",
      "Epoch 47/100\n",
      "300/300 [==============================] - 2s 8ms/step - loss: 0.3751\n",
      "Epoch 48/100\n",
      "300/300 [==============================] - 3s 9ms/step - loss: 0.3751\n",
      "Epoch 49/100\n",
      "300/300 [==============================] - 2s 8ms/step - loss: 0.3751\n",
      "Epoch 50/100\n",
      "300/300 [==============================] - 2s 8ms/step - loss: 0.3751\n",
      "Epoch 51/100\n",
      "300/300 [==============================] - 2s 8ms/step - loss: 0.3751\n",
      "Epoch 52/100\n",
      "300/300 [==============================] - 2s 7ms/step - loss: 0.3751\n",
      "Epoch 53/100\n",
      "300/300 [==============================] - 2s 7ms/step - loss: 0.3751\n",
      "Epoch 54/100\n",
      "300/300 [==============================] - 2s 8ms/step - loss: 0.3751\n",
      "Epoch 55/100\n",
      "300/300 [==============================] - 2s 8ms/step - loss: 0.3751\n",
      "Epoch 56/100\n",
      "300/300 [==============================] - 2s 7ms/step - loss: 0.3751\n",
      "Epoch 57/100\n",
      "300/300 [==============================] - 2s 7ms/step - loss: 0.3751\n",
      "Epoch 58/100\n",
      "300/300 [==============================] - 2s 7ms/step - loss: 0.3751\n",
      "Epoch 59/100\n",
      "300/300 [==============================] - 2s 7ms/step - loss: 0.3751\n",
      "Epoch 60/100\n",
      "300/300 [==============================] - 2s 7ms/step - loss: 0.3751\n",
      "Epoch 61/100\n",
      "300/300 [==============================] - 2s 8ms/step - loss: 0.3751\n",
      "Epoch 62/100\n",
      "300/300 [==============================] - 2s 8ms/step - loss: 0.3751\n",
      "Epoch 63/100\n",
      "300/300 [==============================] - 2s 7ms/step - loss: 0.3751\n",
      "Epoch 64/100\n",
      "300/300 [==============================] - 2s 7ms/step - loss: 0.3751\n",
      "Epoch 65/100\n",
      "300/300 [==============================] - 2s 7ms/step - loss: 0.3751\n",
      "Epoch 66/100\n",
      "300/300 [==============================] - 2s 7ms/step - loss: 0.3751\n",
      "Epoch 67/100\n",
      "300/300 [==============================] - 2s 7ms/step - loss: 0.3751\n",
      "Epoch 68/100\n",
      "300/300 [==============================] - 2s 7ms/step - loss: 0.3751\n",
      "Epoch 69/100\n",
      "300/300 [==============================] - 2s 8ms/step - loss: 0.3751\n",
      "Epoch 70/100\n",
      "300/300 [==============================] - 2s 7ms/step - loss: 0.3751\n",
      "Epoch 71/100\n",
      "300/300 [==============================] - 2s 7ms/step - loss: 0.3751\n",
      "Epoch 72/100\n",
      "300/300 [==============================] - 2s 7ms/step - loss: 0.3751\n",
      "Epoch 73/100\n",
      "300/300 [==============================] - 2s 7ms/step - loss: 0.3751\n",
      "Epoch 74/100\n",
      "300/300 [==============================] - 2s 7ms/step - loss: 0.3751\n",
      "Epoch 75/100\n",
      "300/300 [==============================] - 2s 7ms/step - loss: 0.3751\n",
      "Epoch 76/100\n",
      "300/300 [==============================] - 2s 8ms/step - loss: 0.3751\n",
      "Epoch 77/100\n",
      "300/300 [==============================] - 2s 7ms/step - loss: 0.3751\n",
      "Epoch 78/100\n",
      "300/300 [==============================] - 2s 7ms/step - loss: 0.3751\n",
      "Epoch 79/100\n",
      "300/300 [==============================] - 2s 7ms/step - loss: 0.3751\n",
      "Epoch 80/100\n",
      "300/300 [==============================] - 2s 7ms/step - loss: 0.3751\n",
      "Epoch 81/100\n",
      "300/300 [==============================] - 2s 7ms/step - loss: 0.3751\n",
      "Epoch 82/100\n",
      "300/300 [==============================] - 2s 7ms/step - loss: 0.3751\n",
      "Epoch 83/100\n",
      "300/300 [==============================] - 2s 8ms/step - loss: 0.3751\n",
      "Epoch 84/100\n",
      "300/300 [==============================] - 2s 8ms/step - loss: 0.3751\n",
      "Epoch 85/100\n",
      "300/300 [==============================] - 2s 7ms/step - loss: 0.3751\n",
      "Epoch 86/100\n",
      "300/300 [==============================] - 2s 7ms/step - loss: 0.3751\n",
      "Epoch 87/100\n",
      "300/300 [==============================] - 2s 7ms/step - loss: 0.3751\n",
      "Epoch 88/100\n",
      "300/300 [==============================] - 2s 7ms/step - loss: 0.3751\n",
      "Epoch 89/100\n",
      "300/300 [==============================] - 2s 7ms/step - loss: 0.3751\n",
      "Epoch 90/100\n",
      "300/300 [==============================] - 2s 7ms/step - loss: 0.3751\n",
      "Epoch 91/100\n",
      "300/300 [==============================] - 2s 7ms/step - loss: 0.3751\n",
      "Epoch 92/100\n",
      "300/300 [==============================] - 2s 7ms/step - loss: 0.3751\n",
      "Epoch 93/100\n",
      "300/300 [==============================] - 2s 7ms/step - loss: 0.3751\n",
      "Epoch 94/100\n",
      "300/300 [==============================] - 2s 7ms/step - loss: 0.3751\n",
      "Epoch 95/100\n",
      "300/300 [==============================] - 2s 7ms/step - loss: 0.3751\n",
      "Epoch 96/100\n",
      "300/300 [==============================] - 2s 7ms/step - loss: 0.3751\n",
      "Epoch 97/100\n",
      "300/300 [==============================] - 2s 6ms/step - loss: 0.3751\n",
      "Epoch 98/100\n",
      "300/300 [==============================] - 2s 7ms/step - loss: 0.3751\n",
      "Epoch 99/100\n"
     ]
    },
    {
     "name": "stdout",
     "output_type": "stream",
     "text": [
      "300/300 [==============================] - 2s 8ms/step - loss: 0.3751\n",
      "Epoch 100/100\n",
      "300/300 [==============================] - 2s 8ms/step - loss: 0.3751\n"
     ]
    },
    {
     "data": {
      "text/plain": [
       "<keras.callbacks.History at 0x1954651af28>"
      ]
     },
     "execution_count": 31,
     "metadata": {},
     "output_type": "execute_result"
    }
   ],
   "source": [
    "model6 = Sequential()\n",
    "model6.add(Conv2D(16, (5, 5), activation='relu',input_shape=(72,72,1)))\n",
    "model6.add(MaxPooling2D(pool_size=(2, 2)))\n",
    "model6.add(Flatten())\n",
    "model6.add(Dense(128,activation='softmax'))\n",
    "model6.add(Dense(256,activation='softmax'))\n",
    "model6.add(Dense(256,activation='softmax'))\n",
    "model6.add(Dense(6,activation='softmax'))\n",
    "sgd = SGD(lr=0.003, decay=1e-6, momentum=0.9, nesterov=True)\n",
    "model6.compile(loss='mean_squared_error', optimizer='adam')\n",
    "model6.fit(X_train3.reshape(X_train3.shape[0],72,72,1), Y_train3_bis, epochs=100, batch_size=32)"
   ]
  },
  {
   "cell_type": "code",
   "execution_count": 33,
   "metadata": {},
   "outputs": [
    {
     "name": "stdout",
     "output_type": "stream",
     "text": [
      "300/300 [==============================] - 1s 3ms/step\n"
     ]
    },
    {
     "data": {
      "text/plain": [
       "0.36489613095919293"
      ]
     },
     "execution_count": 33,
     "metadata": {},
     "output_type": "execute_result"
    }
   ],
   "source": [
    "model6.evaluate(X_test2.reshape(X_test2.shape[0],72,72,1), Y_test2_bis)"
   ]
  },
  {
   "cell_type": "code",
   "execution_count": 34,
   "metadata": {},
   "outputs": [],
   "source": [
    "Y = model6.predict((X_test2.reshape(X_test2.shape[0],72,72,1)))"
   ]
  },
  {
   "cell_type": "code",
   "execution_count": 35,
   "metadata": {},
   "outputs": [
    {
     "data": {
      "image/png": "[encoded data removed]",
      "text/plain": [
       "<Figure size 360x360 with 1 Axes>"
      ]
     },
     "metadata": {},
     "output_type": "display_data"
    }
   ],
   "source": [
    "visualize_prediction(X_test2[0], Y[0])"
   ]
  },
  {
   "cell_type": "markdown",
   "metadata": {},
   "source": [
    "We get a low value for the loss function. However, when we try to visualize the prediction, it is pretty inaccurate."
   ]
  },
  {
   "cell_type": "markdown",
   "metadata": {},
   "source": [
    "# Image denoising"
   ]
  },
  {
   "cell_type": "markdown",
   "metadata": {},
   "source": [
    "We now modify the generate function to generate pairs of images."
   ]
  },
  {
   "cell_type": "code",
   "execution_count": 36,
   "metadata": {},
   "outputs": [],
   "source": [
    "#pair of rectangles\n",
    "def generate_a_rectangle2(noise=0.0, free_location=False):\n",
    "    figsize = 1.0    \n",
    "    U = np.zeros(4)\n",
    "    V = np.zeros(4)\n",
    "    if free_location:\n",
    "        corners = np.random.random(4)\n",
    "        top = max(corners[0], corners[1])\n",
    "        bottom = min(corners[0], corners[1])\n",
    "        left = min(corners[2], corners[3])\n",
    "        right = max(corners[2], corners[3])\n",
    "    else:\n",
    "        side = (0.3 + 0.7 * np.random.random()) * figsize\n",
    "        top = figsize/2 + side/2\n",
    "        bottom = figsize/2 - side/2\n",
    "        left = bottom\n",
    "        right = top\n",
    "    U[0] = U[1] = top\n",
    "    U[2] = U[3] = bottom\n",
    "    V[0] = V[3] = left\n",
    "    V[1] = V[2] = right\n",
    "    return generate_a_drawing(figsize, U, V, noise),generate_a_drawing(figsize, U, V, noise=0)\n",
    "\n",
    "# pair of disks\n",
    "def generate_a_disk2(noise=0.0, free_location=False):\n",
    "    figsize = 1.0\n",
    "    if free_location:\n",
    "        center = np.random.random(2)\n",
    "    else:\n",
    "        center = (figsize/2, figsize/2)\n",
    "    radius = (0.3 + 0.7 * np.random.random()) * figsize/2\n",
    "    N = 50\n",
    "    U = np.zeros(N)\n",
    "    V = np.zeros(N)\n",
    "    i = 0\n",
    "    for t in np.linspace(0, 2*np.pi, N):\n",
    "        U[i] = center[0] + np.cos(t) * radius\n",
    "        V[i] = center[1] + np.sin(t) * radius\n",
    "        i = i + 1\n",
    "    return generate_a_drawing(figsize, U, V, noise), generate_a_drawing(figsize, U, V, noise=0)\n",
    "\n",
    "#pair of triangles\n",
    "def generate_a_triangle2(noise=0.0, free_location=False):\n",
    "    figsize = 1.0\n",
    "    if free_location:\n",
    "        U = np.random.random(3)\n",
    "        V = np.random.random(3)\n",
    "    else:\n",
    "        size = (0.3 + 0.7 * np.random.random())*figsize/2\n",
    "        middle = figsize/2\n",
    "        U = (middle, middle+size, middle-size)\n",
    "        V = (middle+size, middle-size, middle-size)\n",
    "    imdata1 = generate_a_drawing(figsize, U, V, noise)\n",
    "    imdata2 = generate_a_drawing(figsize, U, V, noise=0)\n",
    "    return [imdata1, [U[0], V[0], U[1], V[1], U[2], V[2]]],[imdata2, [U[0], V[0], U[1], V[1], U[2], V[2]]]\n",
    "\n",
    "def generate_dataset_classification2(nb_samples, free_location=False):\n",
    "    # Getting im_size:\n",
    "    im_size = generate_a_rectangle().shape[0]\n",
    "    X = np.zeros([nb_samples,im_size])\n",
    "    X_n = np.zeros([nb_samples,im_size])\n",
    "    print('Creating data:')\n",
    "    for i in range(nb_samples):\n",
    "        noise = np.random.random()*100\n",
    "        if i % 10 == 0:\n",
    "            print(i)\n",
    "        category = np.random.randint(3)\n",
    "        if category == 0:\n",
    "            X_n[i], X[i] = generate_a_rectangle2(noise, free_location)\n",
    "        elif category == 1: \n",
    "            X_n[i], X[i] = generate_a_disk2(noise, free_location)\n",
    "        else:\n",
    "            [X_n[i], V_n],[X[i], V] = generate_a_triangle2(noise, free_location)\n",
    "    X = X /255\n",
    "    X_n = (X_n + noise) / (255 + 2 * noise)\n",
    "    return [X_n, X]\n",
    "\n",
    "def generate_test_set_classification2():\n",
    "    np.random.seed(42)\n",
    "    [X_n_test,X_test] = generate_dataset_classification2(300, True)\n",
    "    return [X_n_test,X_test]"
   ]
  },
  {
   "cell_type": "markdown",
   "metadata": {},
   "source": [
    "We create a deep network to solve the problem."
   ]
  },
  {
   "cell_type": "code",
   "execution_count": 37,
   "metadata": {
    "scrolled": true
   },
   "outputs": [
    {
     "name": "stdout",
     "output_type": "stream",
     "text": [
      "Creating data:\n",
      "0\n",
      "10\n",
      "20\n",
      "30\n",
      "40\n",
      "50\n",
      "60\n",
      "70\n",
      "80\n",
      "90\n",
      "100\n",
      "110\n",
      "120\n",
      "130\n",
      "140\n",
      "150\n",
      "160\n",
      "170\n",
      "180\n",
      "190\n",
      "200\n",
      "210\n",
      "220\n",
      "230\n",
      "240\n",
      "250\n",
      "260\n",
      "270\n",
      "280\n",
      "290\n"
     ]
    }
   ],
   "source": [
    "X_n, X = generate_dataset_classification2(nb_samples=300, free_location=True)\n",
    "X_n = X_n.reshape(X_n.shape[0], 72, 72, 1)\n",
    "X = X.reshape(X.shape[0], 72, 72, 1)"
   ]
  },
  {
   "cell_type": "code",
   "execution_count": 38,
   "metadata": {
    "scrolled": true
   },
   "outputs": [
    {
     "name": "stdout",
     "output_type": "stream",
     "text": [
      "Creating data:\n",
      "0\n",
      "10\n",
      "20\n",
      "30\n",
      "40\n",
      "50\n",
      "60\n",
      "70\n",
      "80\n",
      "90\n",
      "100\n",
      "110\n",
      "120\n",
      "130\n",
      "140\n",
      "150\n",
      "160\n",
      "170\n",
      "180\n",
      "190\n",
      "200\n",
      "210\n",
      "220\n",
      "230\n",
      "240\n",
      "250\n",
      "260\n",
      "270\n",
      "280\n",
      "290\n"
     ]
    }
   ],
   "source": [
    "X_n_test, X_test = generate_dataset_classification2(nb_samples=300, free_location=True)\n",
    "X_n_test = X_n_test.reshape(X_test.shape[0], 72, 72, 1)\n",
    "X_test = X_test.reshape(X_test.shape[0], 72, 72, 1)"
   ]
  },
  {
   "cell_type": "markdown",
   "metadata": {},
   "source": [
    "We use autoencoder to build our deep network."
   ]
  },
  {
   "cell_type": "code",
   "execution_count": 39,
   "metadata": {},
   "outputs": [],
   "source": [
    "input_img = Input(shape=(72, 72, 1))  # image data format\n",
    "\n",
    "x = Conv2D(32, (3, 3), activation='relu', padding='same')(input_img)\n",
    "x = MaxPooling2D((2, 2), padding='same')(x)\n",
    "x = Conv2D(32, (3, 3), activation='relu', padding='same')(x)\n",
    "encoded = MaxPooling2D((2, 2), padding='same')(x)\n",
    "\n",
    "\n",
    "x = Conv2D(32, (3, 3), activation='relu', padding='same')(encoded)\n",
    "x = UpSampling2D((2, 2))(x)\n",
    "x = Conv2D(32, (3, 3), activation='relu', padding='same')(x)\n",
    "x = UpSampling2D((2, 2))(x)\n",
    "decoded = Conv2D(1, (3, 3), activation='sigmoid', padding='same')(x)\n",
    "\n",
    "\n",
    "autoencoder = Model(input_img, decoded)\n",
    "autoencoder.compile(optimizer='adam', loss='binary_crossentropy',metrics = ['accuracy'])"
   ]
  },
  {
   "cell_type": "code",
   "execution_count": 40,
   "metadata": {
    "scrolled": true
   },
   "outputs": [
    {
     "name": "stdout",
     "output_type": "stream",
     "text": [
      "Train on 300 samples, validate on 300 samples\n",
      "Epoch 1/20\n",
      "300/300 [==============================] - 16s 52ms/step - loss: 0.4624 - acc: 0.8295 - val_loss: 0.2803 - val_acc: 0.9097\n",
      "Epoch 2/20\n",
      "300/300 [==============================] - 14s 46ms/step - loss: 0.2398 - acc: 0.9066 - val_loss: 0.2069 - val_acc: 0.9097\n",
      "Epoch 3/20\n",
      "300/300 [==============================] - 16s 52ms/step - loss: 0.1440 - acc: 0.9402 - val_loss: 0.1022 - val_acc: 0.9641\n",
      "Epoch 4/20\n",
      "300/300 [==============================] - 15s 51ms/step - loss: 0.0527 - acc: 0.9865 - val_loss: 0.0409 - val_acc: 0.9845\n",
      "Epoch 5/20\n",
      "300/300 [==============================] - 15s 49ms/step - loss: 0.0262 - acc: 0.9912 - val_loss: 0.0333 - val_acc: 0.9876\n",
      "Epoch 6/20\n",
      "300/300 [==============================] - 16s 52ms/step - loss: 0.0228 - acc: 0.9921 - val_loss: 0.0249 - val_acc: 0.9905\n",
      "Epoch 7/20\n",
      "300/300 [==============================] - 15s 49ms/step - loss: 0.0217 - acc: 0.9922 - val_loss: 0.0224 - val_acc: 0.9910\n",
      "Epoch 8/20\n",
      "300/300 [==============================] - 15s 50ms/step - loss: 0.0191 - acc: 0.9929 - val_loss: 0.0244 - val_acc: 0.9896\n",
      "Epoch 9/20\n",
      "300/300 [==============================] - 15s 50ms/step - loss: 0.0180 - acc: 0.9932 - val_loss: 0.0214 - val_acc: 0.9910\n",
      "Epoch 10/20\n",
      "300/300 [==============================] - 15s 50ms/step - loss: 0.0167 - acc: 0.9938 - val_loss: 0.0192 - val_acc: 0.9924\n",
      "Epoch 11/20\n",
      "300/300 [==============================] - 18s 59ms/step - loss: 0.0160 - acc: 0.9940 - val_loss: 0.0171 - val_acc: 0.9939\n",
      "Epoch 12/20\n",
      "300/300 [==============================] - 14s 48ms/step - loss: 0.0153 - acc: 0.9943 - val_loss: 0.0197 - val_acc: 0.9918\n",
      "Epoch 13/20\n",
      "300/300 [==============================] - 15s 51ms/step - loss: 0.0145 - acc: 0.9946 - val_loss: 0.0171 - val_acc: 0.9933\n",
      "Epoch 14/20\n",
      "300/300 [==============================] - 13s 45ms/step - loss: 0.0138 - acc: 0.9949 - val_loss: 0.0154 - val_acc: 0.9944\n",
      "Epoch 15/20\n",
      "300/300 [==============================] - 14s 47ms/step - loss: 0.0136 - acc: 0.9949 - val_loss: 0.0148 - val_acc: 0.9946\n",
      "Epoch 16/20\n",
      "300/300 [==============================] - 15s 49ms/step - loss: 0.0135 - acc: 0.9949 - val_loss: 0.0151 - val_acc: 0.9942\n",
      "Epoch 17/20\n",
      "300/300 [==============================] - 14s 48ms/step - loss: 0.0129 - acc: 0.9951 - val_loss: 0.0150 - val_acc: 0.9942\n",
      "Epoch 18/20\n",
      "300/300 [==============================] - 15s 50ms/step - loss: 0.0119 - acc: 0.9956 - val_loss: 0.0145 - val_acc: 0.9944\n",
      "Epoch 19/20\n",
      "300/300 [==============================] - 15s 48ms/step - loss: 0.0115 - acc: 0.9958 - val_loss: 0.0130 - val_acc: 0.9954\n",
      "Epoch 20/20\n",
      "300/300 [==============================] - 14s 48ms/step - loss: 0.0108 - acc: 0.9960 - val_loss: 0.0133 - val_acc: 0.9951\n"
     ]
    },
    {
     "data": {
      "text/plain": [
       "<keras.callbacks.History at 0x195504fa588>"
      ]
     },
     "execution_count": 40,
     "metadata": {},
     "output_type": "execute_result"
    }
   ],
   "source": [
    "autoencoder.fit(X_n, X,\n",
    "                epochs=20,\n",
    "                batch_size=32,\n",
    "                shuffle=True,\n",
    "                validation_data=(X_n_test, X_test))"
   ]
  },
  {
   "cell_type": "markdown",
   "metadata": {},
   "source": [
    "We get good results as the model is very accurate."
   ]
  },
  {
   "cell_type": "code",
   "execution_count": 41,
   "metadata": {},
   "outputs": [
    {
     "data": {
      "image/png": "[encoded data removed]",
      "text/plain": [
       "<Figure size 1440x288 with 20 Axes>"
      ]
     },
     "metadata": {},
     "output_type": "display_data"
    }
   ],
   "source": [
    "decoded_imgs = autoencoder.predict(X_n_test)\n",
    "\n",
    "n = 10\n",
    "plt.figure(figsize=(20, 4))\n",
    "for i in range(1,n+1):\n",
    "    # display original\n",
    "    ax = plt.subplot(2, n, i)\n",
    "    plt.imshow(X_n_test[i].reshape(72, 72))\n",
    "    plt.gray()\n",
    "    ax.get_xaxis().set_visible(False)\n",
    "    ax.get_yaxis().set_visible(False)\n",
    "\n",
    "    # display reconstruction\n",
    "    ax = plt.subplot(2, n, i + n)\n",
    "    plt.imshow(decoded_imgs[i].reshape(72, 72))\n",
    "    plt.gray()\n",
    "    ax.get_xaxis().set_visible(False)\n",
    "    ax.get_yaxis().set_visible(False)\n",
    "plt.show()"
   ]
  },
  {
   "cell_type": "markdown",
   "metadata": {},
   "source": [
    "We can now reconstruct well the images, except for the third one which has too much noise."
   ]
  }
 ],
 "metadata": {
  "kernelspec": {
   "display_name": "Python 3",
   "language": "python",
   "name": "python3"
  },
  "language_info": {
   "codemirror_mode": {
    "name": "ipython",
    "version": 3
   },
   "file_extension": ".py",
   "mimetype": "text/x-python",
   "name": "python",
   "nbconvert_exporter": "python",
   "pygments_lexer": "ipython3",
   "version": "3.5.5"
  }
 },
 "nbformat": 4,
 "nbformat_minor": 2
}
